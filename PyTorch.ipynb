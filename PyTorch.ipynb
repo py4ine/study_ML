{
 "cells": [
  {
   "cell_type": "code",
   "execution_count": null,
   "metadata": {},
   "outputs": [],
   "source": [
    "import torch\n",
    "import numpy as np\n",
    "import matplotlib.pyplot as plt"
   ]
  },
  {
   "cell_type": "code",
   "execution_count": null,
   "metadata": {},
   "outputs": [],
   "source": [
    "x = torch.empty(5, 4)\n",
    "print(x)"
   ]
  },
  {
   "cell_type": "code",
   "execution_count": null,
   "metadata": {},
   "outputs": [],
   "source": [
    "torch.ones(3, 3)"
   ]
  },
  {
   "cell_type": "code",
   "execution_count": null,
   "metadata": {},
   "outputs": [],
   "source": [
    "torch.zeros(2)"
   ]
  },
  {
   "cell_type": "code",
   "execution_count": null,
   "metadata": {},
   "outputs": [],
   "source": [
    "torch.rand(5, 6)"
   ]
  },
  {
   "cell_type": "code",
   "execution_count": null,
   "metadata": {},
   "outputs": [],
   "source": [
    "l = [13, 4]\n",
    "r = np.array([4, 56, 7])\n",
    "torch.tensor(l)"
   ]
  },
  {
   "cell_type": "code",
   "execution_count": null,
   "metadata": {},
   "outputs": [],
   "source": [
    "torch.tensor(r)"
   ]
  },
  {
   "cell_type": "code",
   "execution_count": null,
   "metadata": {},
   "outputs": [],
   "source": [
    "x.size()[0]"
   ]
  },
  {
   "cell_type": "code",
   "execution_count": null,
   "metadata": {},
   "outputs": [],
   "source": [
    "type(x)"
   ]
  },
  {
   "cell_type": "code",
   "execution_count": null,
   "metadata": {},
   "outputs": [],
   "source": [
    "x = torch.rand(2, 2)\n",
    "y = torch.rand(2, 2)\n",
    "x + y"
   ]
  },
  {
   "cell_type": "code",
   "execution_count": null,
   "metadata": {},
   "outputs": [],
   "source": [
    "x"
   ]
  },
  {
   "cell_type": "code",
   "execution_count": null,
   "metadata": {},
   "outputs": [],
   "source": [
    "y"
   ]
  },
  {
   "cell_type": "code",
   "execution_count": null,
   "metadata": {},
   "outputs": [],
   "source": [
    "x+y"
   ]
  },
  {
   "cell_type": "code",
   "execution_count": null,
   "metadata": {},
   "outputs": [],
   "source": [
    "torch.add(x, y)"
   ]
  },
  {
   "cell_type": "code",
   "execution_count": null,
   "metadata": {},
   "outputs": [],
   "source": [
    "y.add(x)"
   ]
  },
  {
   "cell_type": "code",
   "execution_count": null,
   "metadata": {},
   "outputs": [],
   "source": [
    "y.add_(x)"
   ]
  },
  {
   "cell_type": "code",
   "execution_count": null,
   "metadata": {},
   "outputs": [],
   "source": [
    "y"
   ]
  },
  {
   "cell_type": "code",
   "execution_count": null,
   "metadata": {},
   "outputs": [],
   "source": [
    "x = torch.rand(8, 8)\n",
    "print(x.size())"
   ]
  },
  {
   "cell_type": "code",
   "execution_count": null,
   "metadata": {},
   "outputs": [],
   "source": [
    "a = x.view(64)\n",
    "print(a.size())"
   ]
  },
  {
   "cell_type": "code",
   "execution_count": null,
   "metadata": {},
   "outputs": [],
   "source": [
    "b =  x.view(-1, 4, 4)\n",
    "print(b.size())"
   ]
  },
  {
   "cell_type": "code",
   "execution_count": null,
   "metadata": {},
   "outputs": [],
   "source": [
    "x = torch.rand(8,8)\n",
    "y = x.numpy()\n",
    "type(y)"
   ]
  },
  {
   "cell_type": "code",
   "execution_count": null,
   "metadata": {},
   "outputs": [],
   "source": [
    "x = torch.ones(1)\n",
    "print(x.item())"
   ]
  },
  {
   "cell_type": "code",
   "execution_count": null,
   "metadata": {},
   "outputs": [],
   "source": [
    "x = torch.FloatTensor(range(5)).unsqueeze(1)\n",
    "y = 2*x + torch.rand(5,1)  # y는 실제 값으로 임의로 5개를 만들어 준다.\n",
    "num_features = x.shape[1]  # 변수의 개수를 저장하는 num_features. x의 크기는 torch.Size([5,1])이므로 인스턴스의 개수가 5개이고 변수의 개수가 1개인 데이터"
   ]
  },
  {
   "cell_type": "code",
   "execution_count": null,
   "metadata": {},
   "outputs": [],
   "source": [
    "# 역전파 설정 requires_grad=True\n",
    "w = torch.randn(num_features, 1, requires_grad=True)  # 선형식은 y = wx + b로 표현.\n",
    "b = torch.randn(1, requires_grad=True)  # 편향 b는 모든 인스턴스에 동일한 숫자를 더해주는 것이므로 크기가 1인 텐서로 정의"
   ]
  },
  {
   "cell_type": "code",
   "execution_count": null,
   "metadata": {},
   "outputs": [],
   "source": [
    "# 경사하강법\n",
    "learning_rate = 1e-3  # 학습률\n",
    "optimizer = torch.optim.SGD([w,b], lr=learning_rate)\n",
    "\n",
    "loss_stack = []\n",
    "for epoch in range(100):\n",
    "    optimizer.zero_grad()  # 매 epoch마다 누적된 값을 optimizer.zero_grad()를 통해 초기화\n",
    "    y_hat = torch.matmul(x,w) + b  # 회귀식 모델을 이용하여 예측값을 산출\n",
    "    loss = torch.mean((y_hat - y) ** 2)  # 예측값과 실제값을 이용하여 손실함수를 계산. 사용된 함수는 MSE\n",
    "    loss.backward()  # 역전파의 기준을 손실함수로 정의\n",
    "    optimizer.step()  # 미리 정의한 optimizer를 이용하여 최적화를 시행\n",
    "    loss_stack.append(loss.item())  # 그래프를 그리기 위해 손실함수 값만 loss_stack에 넣는다. item()을 사용하지 않으면 loss텐서 전체를 저장하게 된다.\n",
    "\n",
    "    if epoch % 100 == 0:  # epoch이 100으로 나눠 떨어질 때마다 손실함수 값을 출력\n",
    "        print(f'Epoch {epoch} : {loss.item()}')"
   ]
  },
  {
   "cell_type": "code",
   "execution_count": null,
   "metadata": {},
   "outputs": [],
   "source": [
    "# 최종 학습된 w, b로 예측값을 산출\n",
    "with torch.no_grad():  # 최적화를 사용하지 않으므로 requires_grad를 비활성화\n",
    "    y_hat = torch.matmul(x,w) + b"
   ]
  },
  {
   "cell_type": "code",
   "execution_count": null,
   "metadata": {},
   "outputs": [],
   "source": [
    "# 손실함수와 회귀선 그래프\n",
    "\n",
    "plt.figure(figsize=(10, 5))\n",
    "plt.subplot(121)\n",
    "plt.plot(loss_stack)\n",
    "plt.title(\"Loss\")\n",
    "plt.subplot(122)\n",
    "plt.plot(x, y, '.b')\n",
    "plt.plot(x, y_hat, 'r-')\n",
    "plt.legend(['ground truth','prediction'])\n",
    "plt.title(\"Prediction\")\n",
    "plt.show()"
   ]
  },
  {
   "cell_type": "code",
   "execution_count": null,
   "metadata": {},
   "outputs": [],
   "source": [
    "import torchvision  # 이미지와 관련된 파이토치 라이브러리\n",
    "import torchvision.transforms as tr  # 이미지 전처리 기능들을 제공하는 라이브러리\n",
    "from torch.utils.data import DataLoader, Dataset  # 데이터를 모델에 사용할 수 있도록 정리해 주는 라이브러리"
   ]
  },
  {
   "cell_type": "code",
   "execution_count": null,
   "metadata": {},
   "outputs": [],
   "source": [
    "# tr.Compose 내에 원하는 전처리를 차례대로 넣어주면 된다.\n",
    "# 예시에서는 16x16으로 이미지 크기 변환 후 텐서 타입으로 변환한다.\n",
    "# 만약 원본 이미지의 너비, 높이가 다를 경우 너비, 높이를 각각 지정을 해야 하기 때문에\n",
    "# tr.Resize((16,16))이라고 입력해야 한다. \n",
    "transf = tr.Compose([tr.Resize(16), tr.ToTensor()])"
   ]
  },
  {
   "cell_type": "code",
   "execution_count": null,
   "metadata": {},
   "outputs": [],
   "source": [
    "# torchvison.datasets에서 제공하는 CIFAR10 데이터를 불러온다 (CIFAR10은 클래스가 10개인 이미지 데이터 셋)\n",
    "# root에는 다운로드받을 경로를 입력한다. train=True이면 학습 데이터를 불러오고 False면 테스트 데이터\n",
    "# 마지막으로 미리 선언한 전처리를 사용하기 위해 transform=transf을 입력한다.\n",
    "trainset = torchvision.datasets.CIFAR10(root='./data', train=True, download=True, transform=transf)\n",
    "testset = torchvision.datasets.CIFAR10(root='./data', train=False, download=True, transform=transf)"
   ]
  },
  {
   "cell_type": "code",
   "execution_count": null,
   "metadata": {},
   "outputs": [],
   "source": [
    "# 현재 이미지 사이즈는 3 x 16 x 16 (채널수 x 너비 x 높이)\n",
    "# 3은 채널 수, 16 x 16은 이미지의 너비와 높이 (위에 transf로 리사이즈한 숫자가 적용)\n",
    "# 일반적인 컬러 사진은 RGB 이미지이기 때문에 채널이 3개\n",
    "print(trainset[0][0].size())"
   ]
  },
  {
   "cell_type": "code",
   "execution_count": null,
   "metadata": {},
   "outputs": [],
   "source": [
    "# DataLoader는 데이터를 미니 배치 형태로 만들어 준다. 따라서 배치 데이터에 관한 배치 사이즈 및 셔플 여부 등을 선택할 수 있다.\n",
    "# 즉, batch_size=50, shuffle=True은 무작위로 데이터를 섞어 한 번에 50개의 이미지를 묶은 배치로 제공하겠다는 의미\n",
    "trainloader = DataLoader(trainset, batch_size=50, shuffle=True)\n",
    "testloader = DataLoader(testset, batch_size=50, shuffle=False)"
   ]
  },
  {
   "cell_type": "code",
   "execution_count": null,
   "metadata": {},
   "outputs": [],
   "source": [
    "# CIFAR10의 학습 이미지 수\n",
    "len(trainset)"
   ]
  },
  {
   "cell_type": "code",
   "execution_count": null,
   "metadata": {},
   "outputs": [],
   "source": [
    "# 배치 개수\n",
    "len(trainloader)"
   ]
  },
  {
   "cell_type": "code",
   "execution_count": null,
   "metadata": {},
   "outputs": [],
   "source": [
    "# trainloader의 첫 번째 배치 불러오기\n",
    "images, labels = next(iter(trainloader))\n",
    "print(images.size())  # (배치크기 x 채널수 x 너비 x 높이)"
   ]
  },
  {
   "cell_type": "code",
   "execution_count": null,
   "metadata": {},
   "outputs": [],
   "source": [
    "# image[1]의 크기는 (3, 16, 16)이다.\n",
    "# 이때 그림을 그려주기 위해서, 채널 수가 가장 뒤로 인 (16, 16, 3) 형태로 만들어야 한다.\n",
    "# permute(1,2,0)은 기존 차원의 위치인 0,1,2를 1,2,0으로 바꿔주는 함수\n",
    "# 따라서 0번째의 크기가 3인 텐서를 마지막으로 보내고, numpy()를 이용해 넘파이 배열로 변환\n",
    "oneshot = images[1].permute(1,2,0).numpy()"
   ]
  },
  {
   "cell_type": "code",
   "execution_count": null,
   "metadata": {},
   "outputs": [],
   "source": [
    "# 그림 그리기\n",
    "plt.figure(figsize=(2,2))\n",
    "plt.imshow(oneshot)\n",
    "plt.axis(\"off\")\n",
    "plt.show()"
   ]
  },
  {
   "cell_type": "code",
   "execution_count": null,
   "metadata": {},
   "outputs": [],
   "source": [
    "# 같은 클래스 별로 폴더를 정리한 경우\n",
    "# 데이터가 같은 클래스 별로 미리 폴더를 정리한 경우, ImageFolder 하나로 개인 데이터를 사용할 수 있다.\n",
    "# 또한 별도의 라벨링이 필요 없으며 폴더 별로 자동으로 라벨링을 한다.\n",
    "# 예를 들어 class폴더에 tiger, lion 폴더(./class/tiger와 ./class/lion)를 미리 만든다.\n",
    "# 마지막으로 ImageForlder에 상위 폴더 ./class를 입력하면 이미지와 라벨이 정리되어 데이터를 불러온다.\n",
    "transf = tr.Compose([tr.Resize(128), tr.ToTensor()])\n",
    "trainset = torchvision.datasets.ImageFolder(root='./class', transform=transf)\n",
    "trainloader = DataLoader(trainset, batch_size=1, shuffle=False)"
   ]
  },
  {
   "cell_type": "code",
   "execution_count": null,
   "metadata": {},
   "outputs": [],
   "source": [
    "# 정리되지 않은 커스텀 데이터 불러오기\n",
    "\n",
    "# from torch.utils.data import Dataset\n",
    "\n",
    "# class test_class(Dataset):  # Dataset을 상속받아 DataLoader에서 배치 단위로 불러올 수 있게 해준다.\n",
    "#     def __init__(self):  # 데이터 세팅에 필요한 것들을 미리 정의하는 역할\n",
    "#         .....\n",
    "#     def __getitime__(self, index):  # DataLoader를 통해 샘플이 요청되면, 인덱스에 해당하는 샘플을 찾아준다.\n",
    "#         .....\n",
    "#     def __len__(self):  # 크기를 반환\n",
    "#         ....."
   ]
  },
  {
   "cell_type": "code",
   "execution_count": null,
   "metadata": {},
   "outputs": [],
   "source": [
    "# 커스텀 데이터 세트 예시\n",
    "\n",
    "train_images = np.random.randint(256, size=(100, 32, 32, 3))/255\n",
    "train_labels = np.random.randint(2, size=(100, 1))\n",
    "\n",
    "class TensorData(Dataset):\n",
    "    def __init__(self, x_data, y_data):  # x,y데이터를 tensor로 변환\n",
    "        self.x_data = torch.FloatTensor(x_data)\n",
    "        self.x_data = self.x_data.permute(0,3,1,2)  # 그림을 그리기 위해, 배열 순서 변경. (이미지수x너비x높이x채널수) -> (이미지수x채널수x너비x높이)\n",
    "        self.y_data = torch.LongTensor(y_data)\n",
    "        self.len = self.y_data.shape[0]  # 입력 데이터의 개수에 대한 변수\n",
    "\n",
    "    def __getitem__(self, index):\n",
    "        return self.x_data[index], self.y_data[index]\n",
    "    \n",
    "    def __len__(self):\n",
    "        return self.len"
   ]
  },
  {
   "cell_type": "code",
   "execution_count": null,
   "metadata": {},
   "outputs": [],
   "source": [
    "train_data = TensorData(train_images, train_labels)\n",
    "train_loader = DataLoader(train_data, batch_size=10, shuffle=True)"
   ]
  },
  {
   "cell_type": "code",
   "execution_count": null,
   "metadata": {},
   "outputs": [],
   "source": [
    "# 커스텀 데이터와 커스텀 전처리 사용하기\n",
    "# 파이토치 전처리 함수들은 이미지의 경우 PIL-Image타입이거나 Teonsor타입일 때 사용 가능\n",
    "# 제공하지 않는 기능에 대해서는 직접 구현이 필요\n",
    "\n",
    "# 텐서 변환 전처리 클래스 정의\n",
    "class ToTensor:  # 입력 데이터를 텐서 데이터로 변환해 주고 학습에 맞는 크기로 변환하는 작업을 담당\n",
    "    def __call__(self, sample):  # 전처리는 MyDataset클래스의 sample을 불러와 작업하기 때문에 __call__함수를 이용\n",
    "        inputs, labels = sample\n",
    "        inputs = torch.FloatTensor(inputs)\n",
    "        inputs = inputs.permute(2,0,1)  # __call__ 함수는 입력값을 하나씩 불러오기 때문에 permute(0,3,1,2)가 아닌 permute(2,0,1)\n",
    "        # return inputs, labels # labels이 이미 텐서 형식이거나, 다른 전처리 없이 바로 사용할 수 있을 때 적합\n",
    "        return inputs, torch.LongTensor(labels)  # 분류 문제에서는 레이블이 LongTensor 형식으로 있어야 CrossEntropyLoss 같은 손실 함수와 호환되므로, 레이블이 정수형 텐서로 필요할 때 유용"
   ]
  },
  {
   "cell_type": "code",
   "execution_count": null,
   "metadata": {},
   "outputs": [],
   "source": [
    "# CutOut 전처리 클래스 정의\n",
    "# 이미지 내부에 무작위로 사각형 영역을 선택하여 0으로 만드는 데이터 증식 방법\n",
    "\n",
    "class CutOut:\n",
    "    # CutOut 발생 비율을 받기 위해 __init__ 함수를 사용하여 ratio를 받는다.\n",
    "    # 기본 ratio는 0.5로 세팅하면 불러온 이미지에 대해서 50% 확률로 CutOut 발현\n",
    "    def __init__(self, ratio=.5):\n",
    "        self.ratio = int(1/ratio)\n",
    "    \n",
    "    def __call__(self, sample):\n",
    "        inputs, labels = sample\n",
    "        active = int(np.random.randint(0, self.ratio, 1))  # 정수뽑기. 50%일 경우 0과 1 중 하나를 뽑게 되고,\n",
    "\n",
    "        if active == 0:  # 0이면 CutOut를 별현, 1이면 그대로\n",
    "            _, w, h = inputs.size()  # 이미지의 (채널수), 너비, 높이 받기\n",
    "            min_len = min(w, h)  # 최소값 구하기\n",
    "            box_size = int(min_len//4)  # CutOut의 크기를 길이의 최소값 25%로 설정\n",
    "            idx = int(np.random.randint(0, min_len-box_size, 1))  # CutOut 박스의 좌측 상단 꼭지점 위치를 지정\n",
    "            inputs[:, idx:idx+box_size, idx:idx+box_size] = 0  # 해당 정사각형 영역의 값을 0으로 대체 (코드를 변형하여 다른 모양으로 변경 가능)\n",
    "        \n",
    "        return inputs, labels"
   ]
  },
  {
   "cell_type": "code",
   "execution_count": null,
   "metadata": {},
   "outputs": [],
   "source": [
    "# MyDataset에 전처리를 추가\n",
    "\n",
    "class MyDataset(Dataset):\n",
    "\n",
    "    def __init__(self, x_data, y_data, transform=None):  # transform=None 아무것도 적지 않으면 전처리를 사용하지 않겠다\n",
    "        self.x_data = x_data\n",
    "        self.y_data = y_data\n",
    "        self.transform = transform\n",
    "        self.len = len(y_data)\n",
    "        self.tensor = ToTensor()\n",
    "\n",
    "    def __getitem__(self, index):\n",
    "        # sample = self.x_data[index], self.y_data[index]\n",
    "        x = self.x_data[index]  # 입력 데이터\n",
    "        y = self.y_data[index]  # 레이블\n",
    "        sample = (x, y)\n",
    "\n",
    "        if self.transform:  # transform이 None이 아니라면 __getitem__에서 sample을 반환하기 전에 전처리를 진행\n",
    "            # sample = self.transform(sample)\n",
    "            sample = self.transform(sample)\n",
    "        else:  # transform = None일 경우, 텐서 변환은 기본적으로 하도록\n",
    "            # sample = self.tensor(sample)\n",
    "            x = torch.FloatTensor(x).permute(2, 0, 1)\n",
    "            sample = (x, y)\n",
    "        \n",
    "        return sample\n",
    "    \n",
    "    def __len__(self):\n",
    "        return self.len"
   ]
  },
  {
   "cell_type": "code",
   "execution_count": null,
   "metadata": {},
   "outputs": [],
   "source": [
    "# 파이토치에서 제공하는 텐서 변환 사용이 아닌, 직접 정의한 ToTensor()를 사용\n",
    "# CutOut은 괄호에 아무 값도 없으므로 발현 비율의 기본값인 0.5로 셋팅\n",
    "trans = tr.Compose([ToTensor(), CutOut()])\n",
    "dataset1 = MyDataset(train_images, train_labels, transform=trans)\n",
    "train_loader1 = DataLoader(dataset1, batch_size=10, shuffle=True)"
   ]
  },
  {
   "cell_type": "code",
   "execution_count": null,
   "metadata": {},
   "outputs": [],
   "source": [
    "import torchvision  # 그리드를 만들어주는 torchvision.utils.make_grid를 사용하기 위해\n",
    "images1, labels1 = next(iter(train_loader1))\n",
    "\n",
    "def imshow(img):\n",
    "    plt.figure(figsize=(10,100))\n",
    "    plt.imshow(img.permute(1,2,0).numpy())\n",
    "    plt.show()\n",
    "\n",
    "imshow(torchvision.utils.make_grid(images1, nrow=10))"
   ]
  },
  {
   "cell_type": "code",
   "execution_count": null,
   "metadata": {},
   "outputs": [],
   "source": [
    "# 커스텀 데이터와 파이토치 제공 전처리 사용하기\n",
    "# 기능은 있는데 데이터 타입이 다른 경우 PIL-Image 타입으로 변환하여 제공된 전처리를 사용할 수 있다.\n",
    "\n",
    "class MyTransform:\n",
    "    def __call__(self, sample):\n",
    "        inputs, labels = sample\n",
    "        inputs = torch.FloatTensor(inputs)\n",
    "        inputs = inputs.permute(2,0,1)\n",
    "        labels = torch.FloatTensor(labels)\n",
    "\n",
    "        # tr.Compose는 차례대로 전처리 작업을 하므로 \n",
    "        # 가장 첫 번째에 tr.PILImage()를 넣어 이미지 타입을 바꿔줄 수 있다.\n",
    "        transf = tr.Compose([tr.ToPILImage(), tr.Resize(128), tr.ToTensor()])\n",
    "        final_output = transf(inputs)  # 다음 불러온 샘플을 전처리 작업에 넣어준다\n",
    "\n",
    "        return final_output, labels"
   ]
  },
  {
   "cell_type": "code",
   "execution_count": null,
   "metadata": {},
   "outputs": [],
   "source": [
    "# 전처리에 정의한 MyTransform()을 넣어준다.\n",
    "dataset2 = MyDataset(train_images, train_labels, transform=MyTransform())\n",
    "train_loader2 = DataLoader(dataset2, batch_size=10, shuffle=True)"
   ]
  },
  {
   "cell_type": "code",
   "execution_count": null,
   "metadata": {},
   "outputs": [],
   "source": [
    "# 컨스텀 전처리와 파이토이에서 제공하는 전처리 함께 사용하기\n",
    "# 위에서 사용한 CutOut과 달리, 라벨은 받지 않고 이미지를 받아 처리하도록 세팅한다.\n",
    "# 그 이유는 Compose 내부에 있는 제공된 전처리는 이미지만 받아서 처리하기 때문에 그 양식을 맞춰 주어야 한다.\n",
    "# 위에서 정의한 CutOut은 텐서나 넘파이 배열 타입 모두 작동을 하도록 만들었지만,\n",
    "# PILImage 타입에서는 오류가 난다. 따라서 tr.ToTensor() 뒤에 CutOut을 배치한다.\n",
    "\n",
    "# 데이터 증강의 일환\n",
    "# 이미지의 임의의 부분을 가려 모델이 특정 위치에 의존하지 않도록 학습시키는 데 도움을 준다\n",
    "class CutOut:\n",
    "    def __init__(self, ratio=.5):\n",
    "        self.ratio = int(1/ratio)\n",
    "    \n",
    "    def __call__(self, inputs):\n",
    "        active = int(np.random.randint(0, self.ratio, 1))\n",
    "\n",
    "        if active == 0:\n",
    "            _, w, h = inputs.size()\n",
    "            min_len = min(w, h)  # w, h 중 더 작은 값으로, 이미지의 너비와 높이 중 작은 값\n",
    "            box_size = int(min_len//4)  # min_len 이미지의 1/4 크기의 작은 정사각형 영역\n",
    "            idx = int(np.random.randint(0, min_len - box_size, 1))  # 마스킹할 정사각형의 시작 위치를 렌덤하게 지정\n",
    "            # inputs[채널, 너비(의 일부영역), 높이(의 일부영역)] = 0\n",
    "            inputs[:, idx:idx+box_size, idx:idx+ box_size] = 0  # 0으로 설정하여 검은색으로 마스킹\n",
    "        \n",
    "        return inputs\n",
    "    \n",
    "transf = tr.Compose([tr.Resize(128), tr.ToTensor(), CutOut()])\n",
    "trainset = torchvision.datasets.CIFAR10(root='./data', train=True, download=True, transform=transf)\n",
    "\n",
    "trainloader = DataLoader(trainset, batch_size=10, shuffle=True)\n",
    "images, labels = next(iter(trainloader))\n",
    "imshow(torchvision.utils.make_grid(images, nrow=10))\n",
    "print(images.size())  # 배치 및 이미지 크기 확인\n"
   ]
  },
  {
   "cell_type": "code",
   "execution_count": null,
   "metadata": {},
   "outputs": [],
   "source": []
  }
 ],
 "metadata": {
  "kernelspec": {
   "display_name": "tfGPU",
   "language": "python",
   "name": "python3"
  },
  "language_info": {
   "codemirror_mode": {
    "name": "ipython",
    "version": 3
   },
   "file_extension": ".py",
   "mimetype": "text/x-python",
   "name": "python",
   "nbconvert_exporter": "python",
   "pygments_lexer": "ipython3",
   "version": "3.9.18"
  }
 },
 "nbformat": 4,
 "nbformat_minor": 2
}
