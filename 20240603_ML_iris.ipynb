{
 "cells": [
  {
   "cell_type": "code",
   "execution_count": 1,
   "metadata": {},
   "outputs": [],
   "source": [
    "from sklearn.datasets import load_iris"
   ]
  },
  {
   "cell_type": "code",
   "execution_count": 2,
   "metadata": {},
   "outputs": [],
   "source": [
    "# 붓꽃 데이터셋\n",
    "# 3종의 붓꽃에 대해 꽃잎과 꽃받침의 길이와 너비를 특징으로 가진 데이터셋\n",
    "# 분류 문제에서 많이 사용\n",
    "\n",
    "iris = load_iris()\n",
    "X_iris, y_iris = iris.data, iris.target"
   ]
  },
  {
   "cell_type": "code",
   "execution_count": null,
   "metadata": {},
   "outputs": [],
   "source": [
    "print(iris.data)"
   ]
  },
  {
   "cell_type": "code",
   "execution_count": null,
   "metadata": {},
   "outputs": [],
   "source": [
    "print(iris.target)"
   ]
  },
  {
   "cell_type": "code",
   "execution_count": null,
   "metadata": {},
   "outputs": [],
   "source": [
    "print(iris.feature_names)\n",
    "print(iris.target_names)"
   ]
  },
  {
   "cell_type": "code",
   "execution_count": null,
   "metadata": {},
   "outputs": [],
   "source": [
    "print(iris.DESCR)"
   ]
  },
  {
   "cell_type": "code",
   "execution_count": null,
   "metadata": {},
   "outputs": [],
   "source": [
    "iris.filename"
   ]
  },
  {
   "cell_type": "code",
   "execution_count": null,
   "metadata": {},
   "outputs": [],
   "source": [
    "y_iris.shape"
   ]
  },
  {
   "cell_type": "code",
   "execution_count": null,
   "metadata": {},
   "outputs": [],
   "source": [
    "import numpy as np\n",
    "\n",
    "iris_array = np.array(iris)"
   ]
  },
  {
   "cell_type": "code",
   "execution_count": null,
   "metadata": {},
   "outputs": [],
   "source": [
    "iris_array"
   ]
  },
  {
   "cell_type": "code",
   "execution_count": null,
   "metadata": {},
   "outputs": [],
   "source": [
    "import pandas as pd\n",
    "\n",
    "iris_pd = pd.DataFrame(iris.data, columns=iris.feature_names)\n",
    "iris_pd"
   ]
  },
  {
   "cell_type": "code",
   "execution_count": null,
   "metadata": {},
   "outputs": [],
   "source": [
    "iris_name = pd.DataFrame(y_iris)\n",
    "iris_name"
   ]
  },
  {
   "cell_type": "code",
   "execution_count": null,
   "metadata": {},
   "outputs": [],
   "source": [
    "iris_name.rename(columns={'0' : 'iris_class'})"
   ]
  },
  {
   "cell_type": "code",
   "execution_count": null,
   "metadata": {},
   "outputs": [],
   "source": [
    "iris_pd1 = pd.concat([iris_pd, iris_name], axis=1)"
   ]
  },
  {
   "cell_type": "code",
   "execution_count": null,
   "metadata": {},
   "outputs": [],
   "source": [
    "setosa_feature = iris_pd1[:50]\n",
    "versicolor_feature = iris_pd1[50:100]\n",
    "virginica_feature = iris_pd1[100:]"
   ]
  },
  {
   "cell_type": "code",
   "execution_count": null,
   "metadata": {},
   "outputs": [],
   "source": [
    "import matplotlib.pyplot as plt\n",
    "\n",
    "# sepal = 꽃받침, petal = 꽃잎\n",
    "sepal_length = iris_pd['sepal length (cm)']\n",
    "sepal_width = iris_pd['sepal width (cm)']\n",
    "petal_length = iris_pd['petal length (cm)']\n",
    "petal_width = iris_pd['petal width (cm)']\n",
    "\n",
    "# 전체 데이터 그래프\n",
    "plt.scatter(sepal_length, sepal_width)\n",
    "plt.scatter(petal_length, petal_width)\n",
    "plt.xlabel('Length(cm)')\n",
    "plt.ylabel('Width(cm)')\n",
    "plt.show()"
   ]
  },
  {
   "cell_type": "code",
   "execution_count": null,
   "metadata": {},
   "outputs": [],
   "source": [
    "# iris 종류별 그래프\n",
    "# setosa_feature = iris_pd1[:50]\n",
    "plt.scatter(sepal_length[:50], sepal_width[:50])\n",
    "plt.scatter(petal_length[:50], petal_width[:50])\n",
    "plt.xlabel('Length(cm)')\n",
    "plt.ylabel('Width(cm)')\n",
    "plt.show()\n",
    "\n",
    "# versicolor_feature = iris_pd1[50:100]\n",
    "plt.scatter(sepal_length[50:100], sepal_width[50:100])\n",
    "plt.scatter(petal_length[50:100], petal_width[50:100])\n",
    "plt.xlabel('Length(cm)')\n",
    "plt.ylabel('Width(cm)')\n",
    "plt.show()\n",
    "\n",
    "# virginica_feature = iris_pd1[100:]\n",
    "plt.scatter(sepal_length[100:], sepal_width[100:])\n",
    "plt.scatter(petal_length[100:], petal_width[100:])\n",
    "plt.xlabel('Length(cm)')\n",
    "plt.ylabel('Width(cm)')\n",
    "plt.show()"
   ]
  },
  {
   "cell_type": "code",
   "execution_count": null,
   "metadata": {},
   "outputs": [],
   "source": [
    "from sklearn.neighbors import KNeighborsClassifier\n",
    "\n",
    "# 모델 인스턴스 생성\n",
    "kn = KNeighborsClassifier()\n",
    "\n",
    "# 학습\n",
    "kn.fit(X_iris, y_iris)\n",
    "\n",
    "# 평가\n",
    "kn.score(X_iris, y_iris)"
   ]
  },
  {
   "cell_type": "code",
   "execution_count": null,
   "metadata": {},
   "outputs": [],
   "source": [
    "X_iris[0]"
   ]
  },
  {
   "cell_type": "code",
   "execution_count": null,
   "metadata": {},
   "outputs": [],
   "source": [
    "a = 0\n",
    "\n",
    "for i in X_iris:\n",
    "    print(a, 'class:', kn.predict([i]), 'feature:', X_iris[a])\n",
    "    a += 1"
   ]
  },
  {
   "cell_type": "code",
   "execution_count": null,
   "metadata": {},
   "outputs": [],
   "source": [
    "for n in range(1,20+1):\n",
    "    # 모델 인스턴스 생성\n",
    "    kn = KNeighborsClassifier(n_neighbors=n)\n",
    "    # 학습\n",
    "    kn.fit(X_iris, y_iris)\n",
    "    # 평가\n",
    "    print('이웃수:%d ' %n, kn.score(X_iris, y_iris))\n"
   ]
  },
  {
   "cell_type": "code",
   "execution_count": null,
   "metadata": {},
   "outputs": [],
   "source": [
    "from sklearn.model_selection import train_test_split\n",
    "X_train, y_train, X_target, y_target = train_test_split(X_iris, y_iris, random_state=42)"
   ]
  },
  {
   "cell_type": "code",
   "execution_count": null,
   "metadata": {},
   "outputs": [],
   "source": [
    "print(X_train.shape)\n",
    "print(y_train.shape)\n",
    "print(X_target.shape)\n",
    "print(y_target.shape)"
   ]
  },
  {
   "cell_type": "code",
   "execution_count": null,
   "metadata": {},
   "outputs": [],
   "source": [
    "from sklearn.neighbors import KNeighborsClassifier\n",
    "model = KNeighborsClassifier()\n",
    "model.fit(X_train, X_target)\n",
    "model.score(y_train, y_target)"
   ]
  },
  {
   "cell_type": "code",
   "execution_count": null,
   "metadata": {},
   "outputs": [],
   "source": [
    "model.predict([[10, 4, 2, 1]])"
   ]
  },
  {
   "cell_type": "code",
   "execution_count": null,
   "metadata": {},
   "outputs": [],
   "source": [
    "plt.scatter(petal_length[:50], petal_width[:50])\n",
    "plt.scatter(petal_length[50:100], petal_width[50:100])\n",
    "plt.scatter(petal_length[100:], petal_width[50:100])\n",
    "plt.scatter(2, 1, marker='+')\n",
    "\n",
    "plt.xlabel('petal_length')\n",
    "plt.ylabel('petal_width')\n",
    "plt.show()"
   ]
  },
  {
   "cell_type": "code",
   "execution_count": null,
   "metadata": {},
   "outputs": [],
   "source": [
    "distances, indexes = model.kneighbors([[10, 4, 2, 1]])\n",
    "print(distances)\n",
    "print(indexes)"
   ]
  },
  {
   "cell_type": "code",
   "execution_count": null,
   "metadata": {},
   "outputs": [],
   "source": [
    "print(X_train[74])\n",
    "print(X_train[10])\n",
    "print(X_train[109])\n",
    "print(X_train[97])\n",
    "print(X_train[4])"
   ]
  },
  {
   "cell_type": "code",
   "execution_count": null,
   "metadata": {},
   "outputs": [],
   "source": [
    "mean = np.mean(X_train, axis=0)  # feature column별 평균\n",
    "std = np.std(X_train, axis=0)  # 표준편차\n",
    "# print(mean, std)\n",
    "X_train_scaled = (X_train - mean) / std\n",
    "print(X_train_scaled)"
   ]
  },
  {
   "cell_type": "code",
   "execution_count": null,
   "metadata": {},
   "outputs": [],
   "source": [
    "y_scaled = (y_train - mean) / std\n",
    "y_scaled"
   ]
  },
  {
   "cell_type": "code",
   "execution_count": null,
   "metadata": {},
   "outputs": [],
   "source": [
    "model.fit(X_train_scaled, X_target)\n",
    "model.score(y_scaled, y_target)"
   ]
  },
  {
   "cell_type": "code",
   "execution_count": null,
   "metadata": {},
   "outputs": [],
   "source": [
    "model.predict([[10, 4, 2, 1]])"
   ]
  },
  {
   "cell_type": "code",
   "execution_count": null,
   "metadata": {},
   "outputs": [],
   "source": [
    "distances, indexes = model.kneighbors([[10, 4, 2, 1]])\n",
    "print(distances)\n",
    "print(indexes)"
   ]
  },
  {
   "cell_type": "code",
   "execution_count": null,
   "metadata": {},
   "outputs": [],
   "source": [
    "# 회귀모델 R^2\n",
    "from sklearn.neighbors import KNeighborsRegressor\n",
    "\n",
    "knr = KNeighborsRegressor()\n",
    "knr.fit(X_train, X_target)\n",
    "knr.score(y_train, y_target)"
   ]
  },
  {
   "cell_type": "code",
   "execution_count": null,
   "metadata": {},
   "outputs": [],
   "source": [
    "# 평균 절대값 오차 확인\n",
    "from sklearn.metrics import mean_absolute_error\n",
    "\n",
    "y_predict = knr.predict(y_train)\n",
    "# print(y_predict)\n",
    "\n",
    "mae = mean_absolute_error(y_target, y_predict)\n",
    "\n",
    "print(mae)"
   ]
  },
  {
   "cell_type": "code",
   "execution_count": null,
   "metadata": {},
   "outputs": [],
   "source": [
    "print(knr.score(X_train, X_target))  # 훈련데이터점수\n",
    "print(knr.score(y_train, y_target))  # 테스트데이터점수"
   ]
  },
  {
   "cell_type": "code",
   "execution_count": null,
   "metadata": {},
   "outputs": [],
   "source": [
    "a = 1\n",
    "# x = np.arange(50, 100).reshape(-1,1)\n",
    "\n",
    "for k in range(75, 85):\n",
    "    knr.n_neighbors = k\n",
    "    knr.fit(X_train, X_target)\n",
    "    X_score = knr.score(X_train, X_target)\n",
    "    y_score = knr.score(y_train, y_target)\n",
    "    print(f'{k}: {X_score} {y_score} {X_score-y_score}')\n",
    "    a += 1\n",
    "\n",
    "    # pred = knr.predict(x)\n",
    "\n",
    "    # plt.scatter(X_train, X_target)\n",
    "    # plt.plot(x, pred)\n",
    "    # plt.show()\n"
   ]
  },
  {
   "cell_type": "code",
   "execution_count": null,
   "metadata": {},
   "outputs": [],
   "source": [
    "iris.data"
   ]
  },
  {
   "cell_type": "code",
   "execution_count": null,
   "metadata": {},
   "outputs": [],
   "source": [
    "# 다중 선형 회귀\n",
    "from sklearn.linear_model import LinearRegression\n",
    "\n",
    "lr = LinearRegression()\n",
    "lr.fit(X_train, X_target)\n",
    "\n",
    "print(lr.score(X_train, X_target))\n",
    "print(lr.score(y_train, y_target))"
   ]
  },
  {
   "cell_type": "code",
   "execution_count": null,
   "metadata": {},
   "outputs": [],
   "source": [
    "print(lr.coef_)\n",
    "print(lr.intercept_)"
   ]
  },
  {
   "cell_type": "code",
   "execution_count": null,
   "metadata": {},
   "outputs": [],
   "source": [
    "lr.predict([[10, 4, 2, 1]])"
   ]
  },
  {
   "cell_type": "code",
   "execution_count": null,
   "metadata": {},
   "outputs": [],
   "source": [
    "# PolynomialFeatures 활용하기\n",
    "from sklearn.preprocessing import PolynomialFeatures\n",
    "\n",
    "poly = PolynomialFeatures(include_bias=False)\n",
    "poly.fit(X_train)\n",
    "train_poly = poly.transform(X_train)\n",
    "train_poly[:1]"
   ]
  },
  {
   "cell_type": "code",
   "execution_count": null,
   "metadata": {},
   "outputs": [],
   "source": [
    "poly.transform([[2,3,4,5]])"
   ]
  },
  {
   "cell_type": "code",
   "execution_count": null,
   "metadata": {},
   "outputs": [],
   "source": [
    "test_poly = poly.transform(y_train)\n",
    "test_poly[:1]"
   ]
  },
  {
   "cell_type": "code",
   "execution_count": null,
   "metadata": {},
   "outputs": [],
   "source": [
    "lr.fit(train_poly, X_target)\n",
    "print(lr.score(train_poly, X_target))\n",
    "print(lr.score(test_poly, y_target))"
   ]
  },
  {
   "cell_type": "code",
   "execution_count": null,
   "metadata": {},
   "outputs": [],
   "source": [
    "# degree 5로 설정\n",
    "poly = PolynomialFeatures(degree=5, include_bias=False)"
   ]
  },
  {
   "cell_type": "code",
   "execution_count": null,
   "metadata": {},
   "outputs": [],
   "source": [
    "poly.fit([[2,3]])\n",
    "print(poly.transform([[2,3]]))"
   ]
  },
  {
   "cell_type": "code",
   "execution_count": null,
   "metadata": {},
   "outputs": [],
   "source": [
    "poly.fit(X_train)\n",
    "train_poly = poly.transform(X_train)\n",
    "test_poly = poly.transform(y_train)"
   ]
  },
  {
   "cell_type": "code",
   "execution_count": null,
   "metadata": {},
   "outputs": [],
   "source": [
    "lr.fit(train_poly, X_target)\n",
    "print(lr.score(train_poly, X_target))\n",
    "print(lr.score(test_poly, y_target))"
   ]
  },
  {
   "cell_type": "code",
   "execution_count": null,
   "metadata": {},
   "outputs": [],
   "source": [
    "# 특성 스케일링\n",
    "from sklearn.preprocessing import StandardScaler\n",
    "\n",
    "ss = StandardScaler()\n",
    "ss.fit(train_poly)\n",
    "train_scaled = ss.transform(train_poly)\n",
    "test_scaled = ss.transform(test_poly)"
   ]
  },
  {
   "cell_type": "code",
   "execution_count": null,
   "metadata": {},
   "outputs": [],
   "source": [
    "lr.fit(train_scaled, X_target)\n",
    "print(lr.score(train_scaled, X_target))\n",
    "print(lr.score(test_scaled, y_target))"
   ]
  },
  {
   "cell_type": "code",
   "execution_count": null,
   "metadata": {},
   "outputs": [],
   "source": [
    "# 릿지회귀\n",
    "from sklearn.linear_model import Ridge\n",
    "\n",
    "ridge = Ridge()\n",
    "ridge.fit(train_scaled, X_target)\n",
    "print(ridge.score(train_scaled, X_target))\n",
    "print(ridge.score(test_scaled, y_target))"
   ]
  },
  {
   "cell_type": "code",
   "execution_count": null,
   "metadata": {},
   "outputs": [],
   "source": [
    "train_score = []\n",
    "test_score = []\n",
    "\n",
    "# 적용해볼 alpha 값 리스트\n",
    "alpha_list = [0.001, 0.01, 0.1, 1, 10, 100]\n",
    "\n",
    "for a in alpha_list:\n",
    "\n",
    "    #릿지 모델 생성\n",
    "    ridge = Ridge(alpha = a)\n",
    "\n",
    "    #릿지 모델 훈련\n",
    "    ridge.fit(train_scaled, X_target)\n",
    "\n",
    "    #훈련점수와 테스트 점수 저장\n",
    "    train_score.append(ridge.score(train_scaled, X_target))\n",
    "    test_score.append(ridge.score(test_scaled, y_target))\n",
    "\n",
    "print(train_score)\n",
    "print(test_score)"
   ]
  },
  {
   "cell_type": "code",
   "execution_count": null,
   "metadata": {},
   "outputs": [],
   "source": [
    "# 릿지회귀 그래프\n",
    "plt.plot(alpha_list, train_score)\n",
    "plt.plot(alpha_list, test_score)\n",
    "\n",
    "plt.xlabel('alpha')\n",
    "plt.ylabel('R^2')\n",
    "plt.show()"
   ]
  },
  {
   "cell_type": "code",
   "execution_count": null,
   "metadata": {},
   "outputs": [],
   "source": [
    "print(alpha_list)\n",
    "print(np.log10(alpha_list))"
   ]
  },
  {
   "cell_type": "code",
   "execution_count": null,
   "metadata": {},
   "outputs": [],
   "source": [
    "# 로그함수 적용하여 그래프 그리기\n",
    "plt.plot(np.log10(alpha_list), train_score)\n",
    "plt.plot(np.log10(alpha_list), test_score)\n",
    "\n",
    "plt.xlabel('log10 alpha')\n",
    "plt.ylabel('R^2')\n",
    "plt.show()\n"
   ]
  },
  {
   "cell_type": "code",
   "execution_count": null,
   "metadata": {},
   "outputs": [],
   "source": [
    "# 최적alpha값 설정\n",
    "ridge = Ridge(alpha = 0.007)\n",
    "ridge.fit(train_scaled, X_target)\n",
    "print(ridge.score(train_scaled, X_target))\n",
    "print(ridge.score(test_scaled, y_target))"
   ]
  },
  {
   "cell_type": "code",
   "execution_count": null,
   "metadata": {},
   "outputs": [],
   "source": [
    "# 라쏘 회귀\n",
    "from sklearn.linear_model import Lasso\n",
    "\n",
    "lasso = Lasso()\n",
    "lasso.fit(train_scaled, X_target)\n",
    "print(lasso.score(train_scaled, X_target))\n",
    "print(lasso.score(test_scaled, y_target))"
   ]
  },
  {
   "cell_type": "code",
   "execution_count": null,
   "metadata": {},
   "outputs": [],
   "source": [
    "train_score = []\n",
    "test_score = []\n",
    "\n",
    "alpha_list = [0.001, 0.01, 0.1, 1, 10, 100]\n",
    "\n",
    "for a in alpha_list:\n",
    "\n",
    "    # 라쏘 모델을 생성 및 훈련\n",
    "    lasso = Lasso(alpha = a, max_iter=1000)\n",
    "    lasso.fit(train_scaled, X_target)\n",
    "\n",
    "    train_score.append(lasso.score(train_scaled, X_target))\n",
    "    test_score.append(lasso.score(test_scaled, y_target))\n",
    "\n",
    "print(train_score)\n",
    "print(test_score)\n",
    "\n"
   ]
  },
  {
   "cell_type": "code",
   "execution_count": null,
   "metadata": {},
   "outputs": [],
   "source": [
    "plt.plot(alpha_list, train_score)\n",
    "plt.plot(alpha_list, test_score)\n",
    "plt.xlabel('alpha')\n",
    "plt.ylabel('R^2')\n",
    "plt.show()"
   ]
  },
  {
   "cell_type": "code",
   "execution_count": null,
   "metadata": {},
   "outputs": [],
   "source": [
    "plt.plot(np.log10(alpha_list), train_score)\n",
    "plt.plot(np.log10(alpha_list), test_score)\n",
    "plt.xlabel('alpha')\n",
    "plt.ylabel('R^2')\n",
    "plt.show()"
   ]
  },
  {
   "cell_type": "code",
   "execution_count": null,
   "metadata": {},
   "outputs": [],
   "source": [
    "# 결정트리\n",
    "from sklearn.tree import DecisionTreeClassifier\n",
    "\n",
    "dtc = DecisionTreeClassifier(random_state=42)\n",
    "dtc.fit(X_train, X_target)\n",
    "\n",
    "print(dtc.score(X_train, X_target))\n",
    "print(dtc.score(y_train, y_target))"
   ]
  },
  {
   "cell_type": "code",
   "execution_count": null,
   "metadata": {},
   "outputs": [],
   "source": [
    "# 특성 스케일 불필요\n",
    "# dtc = DecisionTreeClassifier(random_state=42)\n",
    "# dtc.fit(train_scaled, X_target)\n",
    "\n",
    "# print(dtc.score(train_scaled, X_target))\n",
    "# print(dtc.score(test_scaled, y_target))"
   ]
  },
  {
   "cell_type": "code",
   "execution_count": null,
   "metadata": {},
   "outputs": [],
   "source": [
    "# 트리 시각화\n",
    "from sklearn.tree import plot_tree\n",
    "\n",
    "plt.figure(figsize=(20,10))\n",
    "plot_tree(dtc)\n",
    "plt.show()"
   ]
  },
  {
   "cell_type": "code",
   "execution_count": null,
   "metadata": {},
   "outputs": [],
   "source": [
    "plt.figure(figsize=(10,7))\n",
    "plot_tree(dtc, max_depth=1, filled=True, feature_names=['sepal_length', 'sepal_width', 'petal_length', 'petal_width'])\n",
    "plt.show()"
   ]
  },
  {
   "cell_type": "code",
   "execution_count": null,
   "metadata": {},
   "outputs": [],
   "source": [
    "# 가지치기\n",
    "dtc = DecisionTreeClassifier(max_depth=3, random_state=42)\n",
    "dtc.fit(X_train, X_target)\n",
    "\n",
    "print(dtc.score(X_train, X_target))\n",
    "print(dtc.score(y_train, y_target))"
   ]
  },
  {
   "cell_type": "code",
   "execution_count": null,
   "metadata": {},
   "outputs": [],
   "source": [
    "# 트리 구조 시각화\n",
    "\n",
    "plt.figure(figsize=(20,15))\n",
    "plot_tree(dtc, filled=True, feature_names=['sepal_length', 'sepal_width', 'petal_length', 'petal_width'])\n",
    "plt.show()"
   ]
  },
  {
   "cell_type": "code",
   "execution_count": null,
   "metadata": {},
   "outputs": [],
   "source": [
    "# 특성 중요도 확인 (sepal_length, sepal_width, petal_length, petal_width)\n",
    "# print(dtc.feature_names_in_)\n",
    "print(dtc.feature_importances_)"
   ]
  },
  {
   "cell_type": "code",
   "execution_count": null,
   "metadata": {},
   "outputs": [],
   "source": [
    "# 최소 불순도로 가지치기\n",
    "dtc = DecisionTreeClassifier(min_impurity_decrease=0.05, random_state=42)\n",
    "dtc.fit(X_train, X_target)\n",
    "\n",
    "print(dtc.score(X_train, X_target))\n",
    "print(dtc.score(y_train, y_target))"
   ]
  },
  {
   "cell_type": "code",
   "execution_count": null,
   "metadata": {},
   "outputs": [],
   "source": [
    "# 트리 시각화\n",
    "plt.figure(figsize=(20,15))\n",
    "plot_tree(dtc, filled=True, feature_names=['sepal_length', 'sepal_width', 'petal_length', 'petal_width'])\n",
    "plt.show()"
   ]
  },
  {
   "cell_type": "markdown",
   "metadata": {},
   "source": [
    "### K-means"
   ]
  },
  {
   "cell_type": "code",
   "execution_count": 15,
   "metadata": {},
   "outputs": [
    {
     "data": {
      "text/plain": [
       "(150, 4)"
      ]
     },
     "execution_count": 15,
     "metadata": {},
     "output_type": "execute_result"
    }
   ],
   "source": [
    "feature_data = iris.data\n",
    "# iris.feature_names\n",
    "feature_data.shape"
   ]
  },
  {
   "cell_type": "code",
   "execution_count": 98,
   "metadata": {},
   "outputs": [
    {
     "data": {
      "text/plain": [
       "(1, 600)"
      ]
     },
     "execution_count": 98,
     "metadata": {},
     "output_type": "execute_result"
    }
   ],
   "source": [
    "iris_2d = feature_data.reshape(-1, 150*4)\n",
    "iris_2d.shape"
   ]
  },
  {
   "cell_type": "code",
   "execution_count": 26,
   "metadata": {},
   "outputs": [],
   "source": [
    "# KMeans 라이브러리 불러오기\n",
    "from sklearn.cluster import KMeans\n",
    "import numpy as np"
   ]
  },
  {
   "cell_type": "code",
   "execution_count": 21,
   "metadata": {},
   "outputs": [
    {
     "data": {
      "text/plain": [
       "KMeans(n_clusters=3, random_state=43)"
      ]
     },
     "execution_count": 21,
     "metadata": {},
     "output_type": "execute_result"
    }
   ],
   "source": [
    "# k-Means 객체생성 (클러스터 수 = 3)\n",
    "km = KMeans(n_clusters=3, random_state=43)\n",
    "\n",
    "# 학습하기\n",
    "km.fit(feature_data)"
   ]
  },
  {
   "cell_type": "code",
   "execution_count": 35,
   "metadata": {},
   "outputs": [
    {
     "data": {
      "text/plain": [
       "(array([1, 1, 1, 1, 1, 1, 1, 1, 1, 1, 1, 1, 1, 1, 1, 1, 1, 1, 1, 1, 1, 1,\n",
       "        1, 1, 1, 1, 1, 1, 1, 1, 1, 1, 1, 1, 1, 1, 1, 1, 1, 1, 1, 1, 1, 1,\n",
       "        1, 1, 1, 1, 1, 1, 0, 0, 2, 0, 0, 0, 0, 0, 0, 0, 0, 0, 0, 0, 0, 0,\n",
       "        0, 0, 0, 0, 0, 0, 0, 0, 0, 0, 0, 2, 0, 0, 0, 0, 0, 0, 0, 0, 0, 0,\n",
       "        0, 0, 0, 0, 0, 0, 0, 0, 0, 0, 0, 0, 2, 0, 2, 2, 2, 2, 0, 2, 2, 2,\n",
       "        2, 2, 2, 0, 0, 2, 2, 2, 2, 0, 2, 0, 2, 0, 2, 2, 0, 0, 2, 2, 2, 2,\n",
       "        2, 0, 2, 2, 2, 2, 0, 2, 2, 2, 0, 2, 2, 2, 0, 2, 2, 0]),\n",
       " (150,))"
      ]
     },
     "execution_count": 35,
     "metadata": {},
     "output_type": "execute_result"
    }
   ],
   "source": [
    "# 레이블 및 형태 확인\n",
    "km.labels_, km.labels_.shape"
   ]
  },
  {
   "cell_type": "code",
   "execution_count": 27,
   "metadata": {},
   "outputs": [
    {
     "data": {
      "text/plain": [
       "(array([0, 1, 2]), array([62, 50, 38], dtype=int64))"
      ]
     },
     "execution_count": 27,
     "metadata": {},
     "output_type": "execute_result"
    }
   ],
   "source": [
    "# 종류별 개수 확인\n",
    "np.unique(km.labels_, return_counts=True)"
   ]
  },
  {
   "cell_type": "code",
   "execution_count": 90,
   "metadata": {},
   "outputs": [],
   "source": [
    "def draw_hit_iris(arr, ratio=3):\n",
    "    n = len(arr)  # n은 샘플 개수\n",
    "\n",
    "    # 한 줄에 5개씩 이미지를 그린다.\n",
    "    rows = int(np.ceil(n/5))\n",
    "\n",
    "    # 행이 1개 이면 열 개수는 샘플 개수\n",
    "    cols = n if rows < 2 else 5\n",
    "\n",
    "    fig, axs = plt.subplots(rows, cols, figsize=(cols * ratio, rows * ratio), squeeze=False)\n",
    "\n",
    "    for i in range(rows):\n",
    "        for j in range(cols):\n",
    "            idx = i * 5 + j\n",
    "            if idx < n:  # n 개까지만 그린다.\n",
    "                data = arr[idx].reshape(2,2)  # 2x2 히트맵으로 변환\n",
    "                im = axs[i, j].imshow(data, cmap='magma', vmin=np.min(arr), vmax=np.max(arr))\n",
    "                # 색상 맵 (예: 'viridis', 'plasma', 'inferno', 'magma')\n",
    "\n",
    "                # 텍스트 추가\n",
    "                for (k, l), val in np.ndenumerate(data):\n",
    "                    axs[i, j].text(l, k, f'{val:.2f}', ha='center', va='center', color='white' if val < (np.max(arr) + np.min(arr)) / 2 else 'black')\n",
    "\n",
    "            axs[i, j].axis('off')\n",
    "    \n",
    "    #컬러바 추가\n",
    "    cbar = fig.colorbar(im, ax=axs, orientation='vertical', fraction=0.02, pad=0.04)\n",
    "    \n",
    "    plt.show()"
   ]
  },
  {
   "cell_type": "code",
   "execution_count": 91,
   "metadata": {},
   "outputs": [
    {
     "data": {
      "image/png": "[encoded data removed]",
      "text/plain": [
       "<Figure size 1080x216 with 6 Axes>"
      ]
     },
     "metadata": {
      "needs_background": "light"
     },
     "output_type": "display_data"
    }
   ],
   "source": [
    "draw_hit_iris(feature_data[km.labels_ == 0][:5])"
   ]
  },
  {
   "cell_type": "code",
   "execution_count": 92,
   "metadata": {},
   "outputs": [
    {
     "data": {
      "image/png": "[encoded data removed]",
      "text/plain": [
       "<Figure size 1080x216 with 6 Axes>"
      ]
     },
     "metadata": {
      "needs_background": "light"
     },
     "output_type": "display_data"
    }
   ],
   "source": [
    "draw_hit_iris(feature_data[km.labels_ == 1][:5])"
   ]
  },
  {
   "cell_type": "code",
   "execution_count": 93,
   "metadata": {},
   "outputs": [
    {
     "data": {
      "image/png": "[encoded data removed]",
      "text/plain": [
       "<Figure size 1080x216 with 6 Axes>"
      ]
     },
     "metadata": {
      "needs_background": "light"
     },
     "output_type": "display_data"
    }
   ],
   "source": [
    "draw_hit_iris(feature_data[km.labels_ == 2][:5])"
   ]
  },
  {
   "cell_type": "code",
   "execution_count": 94,
   "metadata": {},
   "outputs": [],
   "source": [
    "def draw_bar_iris(arr, ratio=2):\n",
    "    n = len(arr)\n",
    "\n",
    "    rows = int(np.ceil(n/8))\n",
    "\n",
    "    cols = n if rows < 2 else 8\n",
    "\n",
    "    fig, axs = plt.subplots(rows, cols, figsize=(cols * ratio, rows * ratio), squeeze=False)\n",
    "\n",
    "    for i in range(rows):\n",
    "        for j in range(cols):\n",
    "            idx = i * 8 + j\n",
    "            if idx < n:\n",
    "                axs[i, j].bar(range(len(arr[idx])), arr[idx])\n",
    "            # axs[i, j].axis('off')\n",
    "    plt.show()\n"
   ]
  },
  {
   "cell_type": "code",
   "execution_count": 95,
   "metadata": {},
   "outputs": [
    {
     "data": {
      "image/png": "[encoded data removed]",
      "text/plain": [
       "<Figure size 1152x720 with 40 Axes>"
      ]
     },
     "metadata": {
      "needs_background": "light"
     },
     "output_type": "display_data"
    }
   ],
   "source": [
    "draw_bar_iris(feature_data[km.labels_ == 2])"
   ]
  },
  {
   "cell_type": "code",
   "execution_count": null,
   "metadata": {},
   "outputs": [],
   "source": []
  }
 ],
 "metadata": {
  "kernelspec": {
   "display_name": "Python 3",
   "language": "python",
   "name": "python3"
  },
  "language_info": {
   "codemirror_mode": {
    "name": "ipython",
    "version": 3
   },
   "file_extension": ".py",
   "mimetype": "text/x-python",
   "name": "python",
   "nbconvert_exporter": "python",
   "pygments_lexer": "ipython3",
   "version": "3.9.12"
  }
 },
 "nbformat": 4,
 "nbformat_minor": 2
}
