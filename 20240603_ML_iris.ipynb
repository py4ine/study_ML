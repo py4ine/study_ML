{
 "cells": [
  {
   "cell_type": "code",
   "execution_count": 1,
   "metadata": {},
   "outputs": [],
   "source": [
    "from sklearn.datasets import load_iris"
   ]
  },
  {
   "cell_type": "code",
   "execution_count": 2,
   "metadata": {},
   "outputs": [],
   "source": [
    "# 붓꽃 데이터셋\n",
    "# 3종의 붓꽃에 대해 꽃잎과 꽃받침의 길이와 너비를 특징으로 가진 데이터셋\n",
    "# 분류 문제에서 많이 사용\n",
    "\n",
    "iris = load_iris()\n",
    "X_iris, y_iris = iris.data, iris.target"
   ]
  },
  {
   "cell_type": "code",
   "execution_count": 3,
   "metadata": {},
   "outputs": [
    {
     "name": "stdout",
     "output_type": "stream",
     "text": [
      "[[5.1 3.5 1.4 0.2]\n",
      " [4.9 3.  1.4 0.2]\n",
      " [4.7 3.2 1.3 0.2]\n",
      " [4.6 3.1 1.5 0.2]\n",
      " [5.  3.6 1.4 0.2]\n",
      " [5.4 3.9 1.7 0.4]\n",
      " [4.6 3.4 1.4 0.3]\n",
      " [5.  3.4 1.5 0.2]\n",
      " [4.4 2.9 1.4 0.2]\n",
      " [4.9 3.1 1.5 0.1]\n",
      " [5.4 3.7 1.5 0.2]\n",
      " [4.8 3.4 1.6 0.2]\n",
      " [4.8 3.  1.4 0.1]\n",
      " [4.3 3.  1.1 0.1]\n",
      " [5.8 4.  1.2 0.2]\n",
      " [5.7 4.4 1.5 0.4]\n",
      " [5.4 3.9 1.3 0.4]\n",
      " [5.1 3.5 1.4 0.3]\n",
      " [5.7 3.8 1.7 0.3]\n",
      " [5.1 3.8 1.5 0.3]\n",
      " [5.4 3.4 1.7 0.2]\n",
      " [5.1 3.7 1.5 0.4]\n",
      " [4.6 3.6 1.  0.2]\n",
      " [5.1 3.3 1.7 0.5]\n",
      " [4.8 3.4 1.9 0.2]\n",
      " [5.  3.  1.6 0.2]\n",
      " [5.  3.4 1.6 0.4]\n",
      " [5.2 3.5 1.5 0.2]\n",
      " [5.2 3.4 1.4 0.2]\n",
      " [4.7 3.2 1.6 0.2]\n",
      " [4.8 3.1 1.6 0.2]\n",
      " [5.4 3.4 1.5 0.4]\n",
      " [5.2 4.1 1.5 0.1]\n",
      " [5.5 4.2 1.4 0.2]\n",
      " [4.9 3.1 1.5 0.2]\n",
      " [5.  3.2 1.2 0.2]\n",
      " [5.5 3.5 1.3 0.2]\n",
      " [4.9 3.6 1.4 0.1]\n",
      " [4.4 3.  1.3 0.2]\n",
      " [5.1 3.4 1.5 0.2]\n",
      " [5.  3.5 1.3 0.3]\n",
      " [4.5 2.3 1.3 0.3]\n",
      " [4.4 3.2 1.3 0.2]\n",
      " [5.  3.5 1.6 0.6]\n",
      " [5.1 3.8 1.9 0.4]\n",
      " [4.8 3.  1.4 0.3]\n",
      " [5.1 3.8 1.6 0.2]\n",
      " [4.6 3.2 1.4 0.2]\n",
      " [5.3 3.7 1.5 0.2]\n",
      " [5.  3.3 1.4 0.2]\n",
      " [7.  3.2 4.7 1.4]\n",
      " [6.4 3.2 4.5 1.5]\n",
      " [6.9 3.1 4.9 1.5]\n",
      " [5.5 2.3 4.  1.3]\n",
      " [6.5 2.8 4.6 1.5]\n",
      " [5.7 2.8 4.5 1.3]\n",
      " [6.3 3.3 4.7 1.6]\n",
      " [4.9 2.4 3.3 1. ]\n",
      " [6.6 2.9 4.6 1.3]\n",
      " [5.2 2.7 3.9 1.4]\n",
      " [5.  2.  3.5 1. ]\n",
      " [5.9 3.  4.2 1.5]\n",
      " [6.  2.2 4.  1. ]\n",
      " [6.1 2.9 4.7 1.4]\n",
      " [5.6 2.9 3.6 1.3]\n",
      " [6.7 3.1 4.4 1.4]\n",
      " [5.6 3.  4.5 1.5]\n",
      " [5.8 2.7 4.1 1. ]\n",
      " [6.2 2.2 4.5 1.5]\n",
      " [5.6 2.5 3.9 1.1]\n",
      " [5.9 3.2 4.8 1.8]\n",
      " [6.1 2.8 4.  1.3]\n",
      " [6.3 2.5 4.9 1.5]\n",
      " [6.1 2.8 4.7 1.2]\n",
      " [6.4 2.9 4.3 1.3]\n",
      " [6.6 3.  4.4 1.4]\n",
      " [6.8 2.8 4.8 1.4]\n",
      " [6.7 3.  5.  1.7]\n",
      " [6.  2.9 4.5 1.5]\n",
      " [5.7 2.6 3.5 1. ]\n",
      " [5.5 2.4 3.8 1.1]\n",
      " [5.5 2.4 3.7 1. ]\n",
      " [5.8 2.7 3.9 1.2]\n",
      " [6.  2.7 5.1 1.6]\n",
      " [5.4 3.  4.5 1.5]\n",
      " [6.  3.4 4.5 1.6]\n",
      " [6.7 3.1 4.7 1.5]\n",
      " [6.3 2.3 4.4 1.3]\n",
      " [5.6 3.  4.1 1.3]\n",
      " [5.5 2.5 4.  1.3]\n",
      " [5.5 2.6 4.4 1.2]\n",
      " [6.1 3.  4.6 1.4]\n",
      " [5.8 2.6 4.  1.2]\n",
      " [5.  2.3 3.3 1. ]\n",
      " [5.6 2.7 4.2 1.3]\n",
      " [5.7 3.  4.2 1.2]\n",
      " [5.7 2.9 4.2 1.3]\n",
      " [6.2 2.9 4.3 1.3]\n",
      " [5.1 2.5 3.  1.1]\n",
      " [5.7 2.8 4.1 1.3]\n",
      " [6.3 3.3 6.  2.5]\n",
      " [5.8 2.7 5.1 1.9]\n",
      " [7.1 3.  5.9 2.1]\n",
      " [6.3 2.9 5.6 1.8]\n",
      " [6.5 3.  5.8 2.2]\n",
      " [7.6 3.  6.6 2.1]\n",
      " [4.9 2.5 4.5 1.7]\n",
      " [7.3 2.9 6.3 1.8]\n",
      " [6.7 2.5 5.8 1.8]\n",
      " [7.2 3.6 6.1 2.5]\n",
      " [6.5 3.2 5.1 2. ]\n",
      " [6.4 2.7 5.3 1.9]\n",
      " [6.8 3.  5.5 2.1]\n",
      " [5.7 2.5 5.  2. ]\n",
      " [5.8 2.8 5.1 2.4]\n",
      " [6.4 3.2 5.3 2.3]\n",
      " [6.5 3.  5.5 1.8]\n",
      " [7.7 3.8 6.7 2.2]\n",
      " [7.7 2.6 6.9 2.3]\n",
      " [6.  2.2 5.  1.5]\n",
      " [6.9 3.2 5.7 2.3]\n",
      " [5.6 2.8 4.9 2. ]\n",
      " [7.7 2.8 6.7 2. ]\n",
      " [6.3 2.7 4.9 1.8]\n",
      " [6.7 3.3 5.7 2.1]\n",
      " [7.2 3.2 6.  1.8]\n",
      " [6.2 2.8 4.8 1.8]\n",
      " [6.1 3.  4.9 1.8]\n",
      " [6.4 2.8 5.6 2.1]\n",
      " [7.2 3.  5.8 1.6]\n",
      " [7.4 2.8 6.1 1.9]\n",
      " [7.9 3.8 6.4 2. ]\n",
      " [6.4 2.8 5.6 2.2]\n",
      " [6.3 2.8 5.1 1.5]\n",
      " [6.1 2.6 5.6 1.4]\n",
      " [7.7 3.  6.1 2.3]\n",
      " [6.3 3.4 5.6 2.4]\n",
      " [6.4 3.1 5.5 1.8]\n",
      " [6.  3.  4.8 1.8]\n",
      " [6.9 3.1 5.4 2.1]\n",
      " [6.7 3.1 5.6 2.4]\n",
      " [6.9 3.1 5.1 2.3]\n",
      " [5.8 2.7 5.1 1.9]\n",
      " [6.8 3.2 5.9 2.3]\n",
      " [6.7 3.3 5.7 2.5]\n",
      " [6.7 3.  5.2 2.3]\n",
      " [6.3 2.5 5.  1.9]\n",
      " [6.5 3.  5.2 2. ]\n",
      " [6.2 3.4 5.4 2.3]\n",
      " [5.9 3.  5.1 1.8]]\n"
     ]
    }
   ],
   "source": [
    "print(iris.data)"
   ]
  },
  {
   "cell_type": "code",
   "execution_count": 4,
   "metadata": {},
   "outputs": [
    {
     "name": "stdout",
     "output_type": "stream",
     "text": [
      "[0 0 0 0 0 0 0 0 0 0 0 0 0 0 0 0 0 0 0 0 0 0 0 0 0 0 0 0 0 0 0 0 0 0 0 0 0\n",
      " 0 0 0 0 0 0 0 0 0 0 0 0 0 1 1 1 1 1 1 1 1 1 1 1 1 1 1 1 1 1 1 1 1 1 1 1 1\n",
      " 1 1 1 1 1 1 1 1 1 1 1 1 1 1 1 1 1 1 1 1 1 1 1 1 1 1 2 2 2 2 2 2 2 2 2 2 2\n",
      " 2 2 2 2 2 2 2 2 2 2 2 2 2 2 2 2 2 2 2 2 2 2 2 2 2 2 2 2 2 2 2 2 2 2 2 2 2\n",
      " 2 2]\n"
     ]
    }
   ],
   "source": [
    "print(iris.target)"
   ]
  },
  {
   "cell_type": "code",
   "execution_count": 5,
   "metadata": {},
   "outputs": [
    {
     "name": "stdout",
     "output_type": "stream",
     "text": [
      "['sepal length (cm)', 'sepal width (cm)', 'petal length (cm)', 'petal width (cm)']\n",
      "['setosa' 'versicolor' 'virginica']\n"
     ]
    }
   ],
   "source": [
    "print(iris.feature_names)\n",
    "print(iris.target_names)"
   ]
  },
  {
   "cell_type": "code",
   "execution_count": 6,
   "metadata": {},
   "outputs": [
    {
     "name": "stdout",
     "output_type": "stream",
     "text": [
      ".. _iris_dataset:\n",
      "\n",
      "Iris plants dataset\n",
      "--------------------\n",
      "\n",
      "**Data Set Characteristics:**\n",
      "\n",
      "    :Number of Instances: 150 (50 in each of three classes)\n",
      "    :Number of Attributes: 4 numeric, predictive attributes and the class\n",
      "    :Attribute Information:\n",
      "        - sepal length in cm\n",
      "        - sepal width in cm\n",
      "        - petal length in cm\n",
      "        - petal width in cm\n",
      "        - class:\n",
      "                - Iris-Setosa\n",
      "                - Iris-Versicolour\n",
      "                - Iris-Virginica\n",
      "                \n",
      "    :Summary Statistics:\n",
      "\n",
      "    ============== ==== ==== ======= ===== ====================\n",
      "                    Min  Max   Mean    SD   Class Correlation\n",
      "    ============== ==== ==== ======= ===== ====================\n",
      "    sepal length:   4.3  7.9   5.84   0.83    0.7826\n",
      "    sepal width:    2.0  4.4   3.05   0.43   -0.4194\n",
      "    petal length:   1.0  6.9   3.76   1.76    0.9490  (high!)\n",
      "    petal width:    0.1  2.5   1.20   0.76    0.9565  (high!)\n",
      "    ============== ==== ==== ======= ===== ====================\n",
      "\n",
      "    :Missing Attribute Values: None\n",
      "    :Class Distribution: 33.3% for each of 3 classes.\n",
      "    :Creator: R.A. Fisher\n",
      "    :Donor: Michael Marshall (MARSHALL%PLU@io.arc.nasa.gov)\n",
      "    :Date: July, 1988\n",
      "\n",
      "The famous Iris database, first used by Sir R.A. Fisher. The dataset is taken\n",
      "from Fisher's paper. Note that it's the same as in R, but not as in the UCI\n",
      "Machine Learning Repository, which has two wrong data points.\n",
      "\n",
      "This is perhaps the best known database to be found in the\n",
      "pattern recognition literature.  Fisher's paper is a classic in the field and\n",
      "is referenced frequently to this day.  (See Duda & Hart, for example.)  The\n",
      "data set contains 3 classes of 50 instances each, where each class refers to a\n",
      "type of iris plant.  One class is linearly separable from the other 2; the\n",
      "latter are NOT linearly separable from each other.\n",
      "\n",
      ".. topic:: References\n",
      "\n",
      "   - Fisher, R.A. \"The use of multiple measurements in taxonomic problems\"\n",
      "     Annual Eugenics, 7, Part II, 179-188 (1936); also in \"Contributions to\n",
      "     Mathematical Statistics\" (John Wiley, NY, 1950).\n",
      "   - Duda, R.O., & Hart, P.E. (1973) Pattern Classification and Scene Analysis.\n",
      "     (Q327.D83) John Wiley & Sons.  ISBN 0-471-22361-1.  See page 218.\n",
      "   - Dasarathy, B.V. (1980) \"Nosing Around the Neighborhood: A New System\n",
      "     Structure and Classification Rule for Recognition in Partially Exposed\n",
      "     Environments\".  IEEE Transactions on Pattern Analysis and Machine\n",
      "     Intelligence, Vol. PAMI-2, No. 1, 67-71.\n",
      "   - Gates, G.W. (1972) \"The Reduced Nearest Neighbor Rule\".  IEEE Transactions\n",
      "     on Information Theory, May 1972, 431-433.\n",
      "   - See also: 1988 MLC Proceedings, 54-64.  Cheeseman et al\"s AUTOCLASS II\n",
      "     conceptual clustering system finds 3 classes in the data.\n",
      "   - Many, many more ...\n"
     ]
    }
   ],
   "source": [
    "print(iris.DESCR)"
   ]
  },
  {
   "cell_type": "code",
   "execution_count": 7,
   "metadata": {},
   "outputs": [
    {
     "data": {
      "text/plain": [
       "'iris.csv'"
      ]
     },
     "execution_count": 7,
     "metadata": {},
     "output_type": "execute_result"
    }
   ],
   "source": [
    "iris.filename"
   ]
  },
  {
   "cell_type": "code",
   "execution_count": 8,
   "metadata": {},
   "outputs": [
    {
     "data": {
      "text/plain": [
       "(150,)"
      ]
     },
     "execution_count": 8,
     "metadata": {},
     "output_type": "execute_result"
    }
   ],
   "source": [
    "y_iris.shape"
   ]
  },
  {
   "cell_type": "code",
   "execution_count": 9,
   "metadata": {},
   "outputs": [],
   "source": [
    "import numpy as np\n",
    "\n",
    "iris_array = np.array(iris)"
   ]
  },
  {
   "cell_type": "code",
   "execution_count": 10,
   "metadata": {},
   "outputs": [
    {
     "data": {
      "text/plain": [
       "array({'data': array([[5.1, 3.5, 1.4, 0.2],\n",
       "       [4.9, 3. , 1.4, 0.2],\n",
       "       [4.7, 3.2, 1.3, 0.2],\n",
       "       [4.6, 3.1, 1.5, 0.2],\n",
       "       [5. , 3.6, 1.4, 0.2],\n",
       "       [5.4, 3.9, 1.7, 0.4],\n",
       "       [4.6, 3.4, 1.4, 0.3],\n",
       "       [5. , 3.4, 1.5, 0.2],\n",
       "       [4.4, 2.9, 1.4, 0.2],\n",
       "       [4.9, 3.1, 1.5, 0.1],\n",
       "       [5.4, 3.7, 1.5, 0.2],\n",
       "       [4.8, 3.4, 1.6, 0.2],\n",
       "       [4.8, 3. , 1.4, 0.1],\n",
       "       [4.3, 3. , 1.1, 0.1],\n",
       "       [5.8, 4. , 1.2, 0.2],\n",
       "       [5.7, 4.4, 1.5, 0.4],\n",
       "       [5.4, 3.9, 1.3, 0.4],\n",
       "       [5.1, 3.5, 1.4, 0.3],\n",
       "       [5.7, 3.8, 1.7, 0.3],\n",
       "       [5.1, 3.8, 1.5, 0.3],\n",
       "       [5.4, 3.4, 1.7, 0.2],\n",
       "       [5.1, 3.7, 1.5, 0.4],\n",
       "       [4.6, 3.6, 1. , 0.2],\n",
       "       [5.1, 3.3, 1.7, 0.5],\n",
       "       [4.8, 3.4, 1.9, 0.2],\n",
       "       [5. , 3. , 1.6, 0.2],\n",
       "       [5. , 3.4, 1.6, 0.4],\n",
       "       [5.2, 3.5, 1.5, 0.2],\n",
       "       [5.2, 3.4, 1.4, 0.2],\n",
       "       [4.7, 3.2, 1.6, 0.2],\n",
       "       [4.8, 3.1, 1.6, 0.2],\n",
       "       [5.4, 3.4, 1.5, 0.4],\n",
       "       [5.2, 4.1, 1.5, 0.1],\n",
       "       [5.5, 4.2, 1.4, 0.2],\n",
       "       [4.9, 3.1, 1.5, 0.2],\n",
       "       [5. , 3.2, 1.2, 0.2],\n",
       "       [5.5, 3.5, 1.3, 0.2],\n",
       "       [4.9, 3.6, 1.4, 0.1],\n",
       "       [4.4, 3. , 1.3, 0.2],\n",
       "       [5.1, 3.4, 1.5, 0.2],\n",
       "       [5. , 3.5, 1.3, 0.3],\n",
       "       [4.5, 2.3, 1.3, 0.3],\n",
       "       [4.4, 3.2, 1.3, 0.2],\n",
       "       [5. , 3.5, 1.6, 0.6],\n",
       "       [5.1, 3.8, 1.9, 0.4],\n",
       "       [4.8, 3. , 1.4, 0.3],\n",
       "       [5.1, 3.8, 1.6, 0.2],\n",
       "       [4.6, 3.2, 1.4, 0.2],\n",
       "       [5.3, 3.7, 1.5, 0.2],\n",
       "       [5. , 3.3, 1.4, 0.2],\n",
       "       [7. , 3.2, 4.7, 1.4],\n",
       "       [6.4, 3.2, 4.5, 1.5],\n",
       "       [6.9, 3.1, 4.9, 1.5],\n",
       "       [5.5, 2.3, 4. , 1.3],\n",
       "       [6.5, 2.8, 4.6, 1.5],\n",
       "       [5.7, 2.8, 4.5, 1.3],\n",
       "       [6.3, 3.3, 4.7, 1.6],\n",
       "       [4.9, 2.4, 3.3, 1. ],\n",
       "       [6.6, 2.9, 4.6, 1.3],\n",
       "       [5.2, 2.7, 3.9, 1.4],\n",
       "       [5. , 2. , 3.5, 1. ],\n",
       "       [5.9, 3. , 4.2, 1.5],\n",
       "       [6. , 2.2, 4. , 1. ],\n",
       "       [6.1, 2.9, 4.7, 1.4],\n",
       "       [5.6, 2.9, 3.6, 1.3],\n",
       "       [6.7, 3.1, 4.4, 1.4],\n",
       "       [5.6, 3. , 4.5, 1.5],\n",
       "       [5.8, 2.7, 4.1, 1. ],\n",
       "       [6.2, 2.2, 4.5, 1.5],\n",
       "       [5.6, 2.5, 3.9, 1.1],\n",
       "       [5.9, 3.2, 4.8, 1.8],\n",
       "       [6.1, 2.8, 4. , 1.3],\n",
       "       [6.3, 2.5, 4.9, 1.5],\n",
       "       [6.1, 2.8, 4.7, 1.2],\n",
       "       [6.4, 2.9, 4.3, 1.3],\n",
       "       [6.6, 3. , 4.4, 1.4],\n",
       "       [6.8, 2.8, 4.8, 1.4],\n",
       "       [6.7, 3. , 5. , 1.7],\n",
       "       [6. , 2.9, 4.5, 1.5],\n",
       "       [5.7, 2.6, 3.5, 1. ],\n",
       "       [5.5, 2.4, 3.8, 1.1],\n",
       "       [5.5, 2.4, 3.7, 1. ],\n",
       "       [5.8, 2.7, 3.9, 1.2],\n",
       "       [6. , 2.7, 5.1, 1.6],\n",
       "       [5.4, 3. , 4.5, 1.5],\n",
       "       [6. , 3.4, 4.5, 1.6],\n",
       "       [6.7, 3.1, 4.7, 1.5],\n",
       "       [6.3, 2.3, 4.4, 1.3],\n",
       "       [5.6, 3. , 4.1, 1.3],\n",
       "       [5.5, 2.5, 4. , 1.3],\n",
       "       [5.5, 2.6, 4.4, 1.2],\n",
       "       [6.1, 3. , 4.6, 1.4],\n",
       "       [5.8, 2.6, 4. , 1.2],\n",
       "       [5. , 2.3, 3.3, 1. ],\n",
       "       [5.6, 2.7, 4.2, 1.3],\n",
       "       [5.7, 3. , 4.2, 1.2],\n",
       "       [5.7, 2.9, 4.2, 1.3],\n",
       "       [6.2, 2.9, 4.3, 1.3],\n",
       "       [5.1, 2.5, 3. , 1.1],\n",
       "       [5.7, 2.8, 4.1, 1.3],\n",
       "       [6.3, 3.3, 6. , 2.5],\n",
       "       [5.8, 2.7, 5.1, 1.9],\n",
       "       [7.1, 3. , 5.9, 2.1],\n",
       "       [6.3, 2.9, 5.6, 1.8],\n",
       "       [6.5, 3. , 5.8, 2.2],\n",
       "       [7.6, 3. , 6.6, 2.1],\n",
       "       [4.9, 2.5, 4.5, 1.7],\n",
       "       [7.3, 2.9, 6.3, 1.8],\n",
       "       [6.7, 2.5, 5.8, 1.8],\n",
       "       [7.2, 3.6, 6.1, 2.5],\n",
       "       [6.5, 3.2, 5.1, 2. ],\n",
       "       [6.4, 2.7, 5.3, 1.9],\n",
       "       [6.8, 3. , 5.5, 2.1],\n",
       "       [5.7, 2.5, 5. , 2. ],\n",
       "       [5.8, 2.8, 5.1, 2.4],\n",
       "       [6.4, 3.2, 5.3, 2.3],\n",
       "       [6.5, 3. , 5.5, 1.8],\n",
       "       [7.7, 3.8, 6.7, 2.2],\n",
       "       [7.7, 2.6, 6.9, 2.3],\n",
       "       [6. , 2.2, 5. , 1.5],\n",
       "       [6.9, 3.2, 5.7, 2.3],\n",
       "       [5.6, 2.8, 4.9, 2. ],\n",
       "       [7.7, 2.8, 6.7, 2. ],\n",
       "       [6.3, 2.7, 4.9, 1.8],\n",
       "       [6.7, 3.3, 5.7, 2.1],\n",
       "       [7.2, 3.2, 6. , 1.8],\n",
       "       [6.2, 2.8, 4.8, 1.8],\n",
       "       [6.1, 3. , 4.9, 1.8],\n",
       "       [6.4, 2.8, 5.6, 2.1],\n",
       "       [7.2, 3. , 5.8, 1.6],\n",
       "       [7.4, 2.8, 6.1, 1.9],\n",
       "       [7.9, 3.8, 6.4, 2. ],\n",
       "       [6.4, 2.8, 5.6, 2.2],\n",
       "       [6.3, 2.8, 5.1, 1.5],\n",
       "       [6.1, 2.6, 5.6, 1.4],\n",
       "       [7.7, 3. , 6.1, 2.3],\n",
       "       [6.3, 3.4, 5.6, 2.4],\n",
       "       [6.4, 3.1, 5.5, 1.8],\n",
       "       [6. , 3. , 4.8, 1.8],\n",
       "       [6.9, 3.1, 5.4, 2.1],\n",
       "       [6.7, 3.1, 5.6, 2.4],\n",
       "       [6.9, 3.1, 5.1, 2.3],\n",
       "       [5.8, 2.7, 5.1, 1.9],\n",
       "       [6.8, 3.2, 5.9, 2.3],\n",
       "       [6.7, 3.3, 5.7, 2.5],\n",
       "       [6.7, 3. , 5.2, 2.3],\n",
       "       [6.3, 2.5, 5. , 1.9],\n",
       "       [6.5, 3. , 5.2, 2. ],\n",
       "       [6.2, 3.4, 5.4, 2.3],\n",
       "       [5.9, 3. , 5.1, 1.8]]), 'target': array([0, 0, 0, 0, 0, 0, 0, 0, 0, 0, 0, 0, 0, 0, 0, 0, 0, 0, 0, 0, 0, 0,\n",
       "       0, 0, 0, 0, 0, 0, 0, 0, 0, 0, 0, 0, 0, 0, 0, 0, 0, 0, 0, 0, 0, 0,\n",
       "       0, 0, 0, 0, 0, 0, 1, 1, 1, 1, 1, 1, 1, 1, 1, 1, 1, 1, 1, 1, 1, 1,\n",
       "       1, 1, 1, 1, 1, 1, 1, 1, 1, 1, 1, 1, 1, 1, 1, 1, 1, 1, 1, 1, 1, 1,\n",
       "       1, 1, 1, 1, 1, 1, 1, 1, 1, 1, 1, 1, 2, 2, 2, 2, 2, 2, 2, 2, 2, 2,\n",
       "       2, 2, 2, 2, 2, 2, 2, 2, 2, 2, 2, 2, 2, 2, 2, 2, 2, 2, 2, 2, 2, 2,\n",
       "       2, 2, 2, 2, 2, 2, 2, 2, 2, 2, 2, 2, 2, 2, 2, 2, 2, 2]), 'frame': None, 'target_names': array(['setosa', 'versicolor', 'virginica'], dtype='<U10'), 'DESCR': '.. _iris_dataset:\\n\\nIris plants dataset\\n--------------------\\n\\n**Data Set Characteristics:**\\n\\n    :Number of Instances: 150 (50 in each of three classes)\\n    :Number of Attributes: 4 numeric, predictive attributes and the class\\n    :Attribute Information:\\n        - sepal length in cm\\n        - sepal width in cm\\n        - petal length in cm\\n        - petal width in cm\\n        - class:\\n                - Iris-Setosa\\n                - Iris-Versicolour\\n                - Iris-Virginica\\n                \\n    :Summary Statistics:\\n\\n    ============== ==== ==== ======= ===== ====================\\n                    Min  Max   Mean    SD   Class Correlation\\n    ============== ==== ==== ======= ===== ====================\\n    sepal length:   4.3  7.9   5.84   0.83    0.7826\\n    sepal width:    2.0  4.4   3.05   0.43   -0.4194\\n    petal length:   1.0  6.9   3.76   1.76    0.9490  (high!)\\n    petal width:    0.1  2.5   1.20   0.76    0.9565  (high!)\\n    ============== ==== ==== ======= ===== ====================\\n\\n    :Missing Attribute Values: None\\n    :Class Distribution: 33.3% for each of 3 classes.\\n    :Creator: R.A. Fisher\\n    :Donor: Michael Marshall (MARSHALL%PLU@io.arc.nasa.gov)\\n    :Date: July, 1988\\n\\nThe famous Iris database, first used by Sir R.A. Fisher. The dataset is taken\\nfrom Fisher\\'s paper. Note that it\\'s the same as in R, but not as in the UCI\\nMachine Learning Repository, which has two wrong data points.\\n\\nThis is perhaps the best known database to be found in the\\npattern recognition literature.  Fisher\\'s paper is a classic in the field and\\nis referenced frequently to this day.  (See Duda & Hart, for example.)  The\\ndata set contains 3 classes of 50 instances each, where each class refers to a\\ntype of iris plant.  One class is linearly separable from the other 2; the\\nlatter are NOT linearly separable from each other.\\n\\n.. topic:: References\\n\\n   - Fisher, R.A. \"The use of multiple measurements in taxonomic problems\"\\n     Annual Eugenics, 7, Part II, 179-188 (1936); also in \"Contributions to\\n     Mathematical Statistics\" (John Wiley, NY, 1950).\\n   - Duda, R.O., & Hart, P.E. (1973) Pattern Classification and Scene Analysis.\\n     (Q327.D83) John Wiley & Sons.  ISBN 0-471-22361-1.  See page 218.\\n   - Dasarathy, B.V. (1980) \"Nosing Around the Neighborhood: A New System\\n     Structure and Classification Rule for Recognition in Partially Exposed\\n     Environments\".  IEEE Transactions on Pattern Analysis and Machine\\n     Intelligence, Vol. PAMI-2, No. 1, 67-71.\\n   - Gates, G.W. (1972) \"The Reduced Nearest Neighbor Rule\".  IEEE Transactions\\n     on Information Theory, May 1972, 431-433.\\n   - See also: 1988 MLC Proceedings, 54-64.  Cheeseman et al\"s AUTOCLASS II\\n     conceptual clustering system finds 3 classes in the data.\\n   - Many, many more ...', 'feature_names': ['sepal length (cm)', 'sepal width (cm)', 'petal length (cm)', 'petal width (cm)'], 'filename': 'iris.csv', 'data_module': 'sklearn.datasets.data'},\n",
       "      dtype=object)"
      ]
     },
     "execution_count": 10,
     "metadata": {},
     "output_type": "execute_result"
    }
   ],
   "source": [
    "iris_array"
   ]
  },
  {
   "cell_type": "code",
   "execution_count": 11,
   "metadata": {},
   "outputs": [
    {
     "data": {
      "text/html": [
       "<div>\n",
       "<style scoped>\n",
       "    .dataframe tbody tr th:only-of-type {\n",
       "        vertical-align: middle;\n",
       "    }\n",
       "\n",
       "    .dataframe tbody tr th {\n",
       "        vertical-align: top;\n",
       "    }\n",
       "\n",
       "    .dataframe thead th {\n",
       "        text-align: right;\n",
       "    }\n",
       "</style>\n",
       "<table border=\"1\" class=\"dataframe\">\n",
       "  <thead>\n",
       "    <tr style=\"text-align: right;\">\n",
       "      <th></th>\n",
       "      <th>sepal length (cm)</th>\n",
       "      <th>sepal width (cm)</th>\n",
       "      <th>petal length (cm)</th>\n",
       "      <th>petal width (cm)</th>\n",
       "    </tr>\n",
       "  </thead>\n",
       "  <tbody>\n",
       "    <tr>\n",
       "      <th>0</th>\n",
       "      <td>5.1</td>\n",
       "      <td>3.5</td>\n",
       "      <td>1.4</td>\n",
       "      <td>0.2</td>\n",
       "    </tr>\n",
       "    <tr>\n",
       "      <th>1</th>\n",
       "      <td>4.9</td>\n",
       "      <td>3.0</td>\n",
       "      <td>1.4</td>\n",
       "      <td>0.2</td>\n",
       "    </tr>\n",
       "    <tr>\n",
       "      <th>2</th>\n",
       "      <td>4.7</td>\n",
       "      <td>3.2</td>\n",
       "      <td>1.3</td>\n",
       "      <td>0.2</td>\n",
       "    </tr>\n",
       "    <tr>\n",
       "      <th>3</th>\n",
       "      <td>4.6</td>\n",
       "      <td>3.1</td>\n",
       "      <td>1.5</td>\n",
       "      <td>0.2</td>\n",
       "    </tr>\n",
       "    <tr>\n",
       "      <th>4</th>\n",
       "      <td>5.0</td>\n",
       "      <td>3.6</td>\n",
       "      <td>1.4</td>\n",
       "      <td>0.2</td>\n",
       "    </tr>\n",
       "    <tr>\n",
       "      <th>...</th>\n",
       "      <td>...</td>\n",
       "      <td>...</td>\n",
       "      <td>...</td>\n",
       "      <td>...</td>\n",
       "    </tr>\n",
       "    <tr>\n",
       "      <th>145</th>\n",
       "      <td>6.7</td>\n",
       "      <td>3.0</td>\n",
       "      <td>5.2</td>\n",
       "      <td>2.3</td>\n",
       "    </tr>\n",
       "    <tr>\n",
       "      <th>146</th>\n",
       "      <td>6.3</td>\n",
       "      <td>2.5</td>\n",
       "      <td>5.0</td>\n",
       "      <td>1.9</td>\n",
       "    </tr>\n",
       "    <tr>\n",
       "      <th>147</th>\n",
       "      <td>6.5</td>\n",
       "      <td>3.0</td>\n",
       "      <td>5.2</td>\n",
       "      <td>2.0</td>\n",
       "    </tr>\n",
       "    <tr>\n",
       "      <th>148</th>\n",
       "      <td>6.2</td>\n",
       "      <td>3.4</td>\n",
       "      <td>5.4</td>\n",
       "      <td>2.3</td>\n",
       "    </tr>\n",
       "    <tr>\n",
       "      <th>149</th>\n",
       "      <td>5.9</td>\n",
       "      <td>3.0</td>\n",
       "      <td>5.1</td>\n",
       "      <td>1.8</td>\n",
       "    </tr>\n",
       "  </tbody>\n",
       "</table>\n",
       "<p>150 rows × 4 columns</p>\n",
       "</div>"
      ],
      "text/plain": [
       "     sepal length (cm)  sepal width (cm)  petal length (cm)  petal width (cm)\n",
       "0                  5.1               3.5                1.4               0.2\n",
       "1                  4.9               3.0                1.4               0.2\n",
       "2                  4.7               3.2                1.3               0.2\n",
       "3                  4.6               3.1                1.5               0.2\n",
       "4                  5.0               3.6                1.4               0.2\n",
       "..                 ...               ...                ...               ...\n",
       "145                6.7               3.0                5.2               2.3\n",
       "146                6.3               2.5                5.0               1.9\n",
       "147                6.5               3.0                5.2               2.0\n",
       "148                6.2               3.4                5.4               2.3\n",
       "149                5.9               3.0                5.1               1.8\n",
       "\n",
       "[150 rows x 4 columns]"
      ]
     },
     "execution_count": 11,
     "metadata": {},
     "output_type": "execute_result"
    }
   ],
   "source": [
    "import pandas as pd\n",
    "\n",
    "iris_pd = pd.DataFrame(iris.data, columns=iris.feature_names)\n",
    "iris_pd"
   ]
  },
  {
   "cell_type": "code",
   "execution_count": 12,
   "metadata": {},
   "outputs": [
    {
     "data": {
      "text/html": [
       "<div>\n",
       "<style scoped>\n",
       "    .dataframe tbody tr th:only-of-type {\n",
       "        vertical-align: middle;\n",
       "    }\n",
       "\n",
       "    .dataframe tbody tr th {\n",
       "        vertical-align: top;\n",
       "    }\n",
       "\n",
       "    .dataframe thead th {\n",
       "        text-align: right;\n",
       "    }\n",
       "</style>\n",
       "<table border=\"1\" class=\"dataframe\">\n",
       "  <thead>\n",
       "    <tr style=\"text-align: right;\">\n",
       "      <th></th>\n",
       "      <th>0</th>\n",
       "    </tr>\n",
       "  </thead>\n",
       "  <tbody>\n",
       "    <tr>\n",
       "      <th>0</th>\n",
       "      <td>0</td>\n",
       "    </tr>\n",
       "    <tr>\n",
       "      <th>1</th>\n",
       "      <td>0</td>\n",
       "    </tr>\n",
       "    <tr>\n",
       "      <th>2</th>\n",
       "      <td>0</td>\n",
       "    </tr>\n",
       "    <tr>\n",
       "      <th>3</th>\n",
       "      <td>0</td>\n",
       "    </tr>\n",
       "    <tr>\n",
       "      <th>4</th>\n",
       "      <td>0</td>\n",
       "    </tr>\n",
       "    <tr>\n",
       "      <th>...</th>\n",
       "      <td>...</td>\n",
       "    </tr>\n",
       "    <tr>\n",
       "      <th>145</th>\n",
       "      <td>2</td>\n",
       "    </tr>\n",
       "    <tr>\n",
       "      <th>146</th>\n",
       "      <td>2</td>\n",
       "    </tr>\n",
       "    <tr>\n",
       "      <th>147</th>\n",
       "      <td>2</td>\n",
       "    </tr>\n",
       "    <tr>\n",
       "      <th>148</th>\n",
       "      <td>2</td>\n",
       "    </tr>\n",
       "    <tr>\n",
       "      <th>149</th>\n",
       "      <td>2</td>\n",
       "    </tr>\n",
       "  </tbody>\n",
       "</table>\n",
       "<p>150 rows × 1 columns</p>\n",
       "</div>"
      ],
      "text/plain": [
       "     0\n",
       "0    0\n",
       "1    0\n",
       "2    0\n",
       "3    0\n",
       "4    0\n",
       "..  ..\n",
       "145  2\n",
       "146  2\n",
       "147  2\n",
       "148  2\n",
       "149  2\n",
       "\n",
       "[150 rows x 1 columns]"
      ]
     },
     "execution_count": 12,
     "metadata": {},
     "output_type": "execute_result"
    }
   ],
   "source": [
    "iris_name = pd.DataFrame(y_iris)\n",
    "iris_name"
   ]
  },
  {
   "cell_type": "code",
   "execution_count": 13,
   "metadata": {},
   "outputs": [
    {
     "data": {
      "text/html": [
       "<div>\n",
       "<style scoped>\n",
       "    .dataframe tbody tr th:only-of-type {\n",
       "        vertical-align: middle;\n",
       "    }\n",
       "\n",
       "    .dataframe tbody tr th {\n",
       "        vertical-align: top;\n",
       "    }\n",
       "\n",
       "    .dataframe thead th {\n",
       "        text-align: right;\n",
       "    }\n",
       "</style>\n",
       "<table border=\"1\" class=\"dataframe\">\n",
       "  <thead>\n",
       "    <tr style=\"text-align: right;\">\n",
       "      <th></th>\n",
       "      <th>0</th>\n",
       "    </tr>\n",
       "  </thead>\n",
       "  <tbody>\n",
       "    <tr>\n",
       "      <th>0</th>\n",
       "      <td>0</td>\n",
       "    </tr>\n",
       "    <tr>\n",
       "      <th>1</th>\n",
       "      <td>0</td>\n",
       "    </tr>\n",
       "    <tr>\n",
       "      <th>2</th>\n",
       "      <td>0</td>\n",
       "    </tr>\n",
       "    <tr>\n",
       "      <th>3</th>\n",
       "      <td>0</td>\n",
       "    </tr>\n",
       "    <tr>\n",
       "      <th>4</th>\n",
       "      <td>0</td>\n",
       "    </tr>\n",
       "    <tr>\n",
       "      <th>...</th>\n",
       "      <td>...</td>\n",
       "    </tr>\n",
       "    <tr>\n",
       "      <th>145</th>\n",
       "      <td>2</td>\n",
       "    </tr>\n",
       "    <tr>\n",
       "      <th>146</th>\n",
       "      <td>2</td>\n",
       "    </tr>\n",
       "    <tr>\n",
       "      <th>147</th>\n",
       "      <td>2</td>\n",
       "    </tr>\n",
       "    <tr>\n",
       "      <th>148</th>\n",
       "      <td>2</td>\n",
       "    </tr>\n",
       "    <tr>\n",
       "      <th>149</th>\n",
       "      <td>2</td>\n",
       "    </tr>\n",
       "  </tbody>\n",
       "</table>\n",
       "<p>150 rows × 1 columns</p>\n",
       "</div>"
      ],
      "text/plain": [
       "     0\n",
       "0    0\n",
       "1    0\n",
       "2    0\n",
       "3    0\n",
       "4    0\n",
       "..  ..\n",
       "145  2\n",
       "146  2\n",
       "147  2\n",
       "148  2\n",
       "149  2\n",
       "\n",
       "[150 rows x 1 columns]"
      ]
     },
     "execution_count": 13,
     "metadata": {},
     "output_type": "execute_result"
    }
   ],
   "source": [
    "iris_name.rename(columns={'0' : 'iris_class'})"
   ]
  },
  {
   "cell_type": "code",
   "execution_count": 14,
   "metadata": {},
   "outputs": [],
   "source": [
    "iris_pd1 = pd.concat([iris_pd, iris_name], axis=1)"
   ]
  },
  {
   "cell_type": "code",
   "execution_count": 15,
   "metadata": {},
   "outputs": [],
   "source": [
    "setosa_feature = iris_pd1[:50]\n",
    "versicolor_feature = iris_pd1[50:100]\n",
    "virginica_feature = iris_pd1[100:]"
   ]
  },
  {
   "cell_type": "code",
   "execution_count": 16,
   "metadata": {},
   "outputs": [
    {
     "data": {
      "image/png": "[encoded data removed]",
      "text/plain": [
       "<Figure size 432x288 with 1 Axes>"
      ]
     },
     "metadata": {
      "needs_background": "light"
     },
     "output_type": "display_data"
    }
   ],
   "source": [
    "import matplotlib.pyplot as plt\n",
    "\n",
    "# sepal = 꽃받침, petal = 꽃잎\n",
    "sepal_length = iris_pd['sepal length (cm)']\n",
    "sepal_width = iris_pd['sepal width (cm)']\n",
    "petal_length = iris_pd['petal length (cm)']\n",
    "petal_width = iris_pd['petal width (cm)']\n",
    "\n",
    "# 전체 데이터 그래프\n",
    "plt.scatter(sepal_length, sepal_width)\n",
    "plt.scatter(petal_length, petal_width)\n",
    "plt.xlabel('Length(cm)')\n",
    "plt.ylabel('Width(cm)')\n",
    "plt.show()"
   ]
  },
  {
   "cell_type": "code",
   "execution_count": 17,
   "metadata": {},
   "outputs": [
    {
     "data": {
      "image/png": "[encoded data removed]",
      "text/plain": [
       "<Figure size 432x288 with 1 Axes>"
      ]
     },
     "metadata": {
      "needs_background": "light"
     },
     "output_type": "display_data"
    },
    {
     "data": {
      "image/png": "[encoded data removed]",
      "text/plain": [
       "<Figure size 432x288 with 1 Axes>"
      ]
     },
     "metadata": {
      "needs_background": "light"
     },
     "output_type": "display_data"
    },
    {
     "data": {
      "image/png": "[encoded data removed]",
      "text/plain": [
       "<Figure size 432x288 with 1 Axes>"
      ]
     },
     "metadata": {
      "needs_background": "light"
     },
     "output_type": "display_data"
    }
   ],
   "source": [
    "# iris 종류별 그래프\n",
    "# setosa_feature = iris_pd1[:50]\n",
    "plt.scatter(sepal_length[:50], sepal_width[:50])\n",
    "plt.scatter(petal_length[:50], petal_width[:50])\n",
    "plt.xlabel('Length(cm)')\n",
    "plt.ylabel('Width(cm)')\n",
    "plt.show()\n",
    "\n",
    "# versicolor_feature = iris_pd1[50:100]\n",
    "plt.scatter(sepal_length[50:100], sepal_width[50:100])\n",
    "plt.scatter(petal_length[50:100], petal_width[50:100])\n",
    "plt.xlabel('Length(cm)')\n",
    "plt.ylabel('Width(cm)')\n",
    "plt.show()\n",
    "\n",
    "# virginica_feature = iris_pd1[100:]\n",
    "plt.scatter(sepal_length[100:], sepal_width[100:])\n",
    "plt.scatter(petal_length[100:], petal_width[100:])\n",
    "plt.xlabel('Length(cm)')\n",
    "plt.ylabel('Width(cm)')\n",
    "plt.show()"
   ]
  },
  {
   "cell_type": "code",
   "execution_count": 18,
   "metadata": {},
   "outputs": [
    {
     "data": {
      "text/plain": [
       "0.9666666666666667"
      ]
     },
     "execution_count": 18,
     "metadata": {},
     "output_type": "execute_result"
    }
   ],
   "source": [
    "from sklearn.neighbors import KNeighborsClassifier\n",
    "\n",
    "# 모델 인스턴스 생성\n",
    "kn = KNeighborsClassifier()\n",
    "\n",
    "# 학습\n",
    "kn.fit(X_iris, y_iris)\n",
    "\n",
    "# 평가\n",
    "kn.score(X_iris, y_iris)"
   ]
  },
  {
   "cell_type": "code",
   "execution_count": 19,
   "metadata": {},
   "outputs": [
    {
     "data": {
      "text/plain": [
       "array([5.1, 3.5, 1.4, 0.2])"
      ]
     },
     "execution_count": 19,
     "metadata": {},
     "output_type": "execute_result"
    }
   ],
   "source": [
    "X_iris[0]"
   ]
  },
  {
   "cell_type": "code",
   "execution_count": 20,
   "metadata": {},
   "outputs": [
    {
     "name": "stdout",
     "output_type": "stream",
     "text": [
      "0 class: [0] feature: [5.1 3.5 1.4 0.2]\n",
      "1 class: [0] feature: [4.9 3.  1.4 0.2]\n",
      "2 class: [0] feature: [4.7 3.2 1.3 0.2]\n",
      "3 class: [0] feature: [4.6 3.1 1.5 0.2]\n",
      "4 class: [0] feature: [5.  3.6 1.4 0.2]\n",
      "5 class: [0] feature: [5.4 3.9 1.7 0.4]\n",
      "6 class: [0] feature: [4.6 3.4 1.4 0.3]\n",
      "7 class: [0] feature: [5.  3.4 1.5 0.2]\n",
      "8 class: [0] feature: [4.4 2.9 1.4 0.2]\n",
      "9 class: [0] feature: [4.9 3.1 1.5 0.1]\n",
      "10 class: [0] feature: [5.4 3.7 1.5 0.2]\n",
      "11 class: [0] feature: [4.8 3.4 1.6 0.2]\n",
      "12 class: [0] feature: [4.8 3.  1.4 0.1]\n",
      "13 class: [0] feature: [4.3 3.  1.1 0.1]\n",
      "14 class: [0] feature: [5.8 4.  1.2 0.2]\n",
      "15 class: [0] feature: [5.7 4.4 1.5 0.4]\n",
      "16 class: [0] feature: [5.4 3.9 1.3 0.4]\n",
      "17 class: [0] feature: [5.1 3.5 1.4 0.3]\n",
      "18 class: [0] feature: [5.7 3.8 1.7 0.3]\n",
      "19 class: [0] feature: [5.1 3.8 1.5 0.3]\n",
      "20 class: [0] feature: [5.4 3.4 1.7 0.2]\n",
      "21 class: [0] feature: [5.1 3.7 1.5 0.4]\n",
      "22 class: [0] feature: [4.6 3.6 1.  0.2]\n",
      "23 class: [0] feature: [5.1 3.3 1.7 0.5]\n",
      "24 class: [0] feature: [4.8 3.4 1.9 0.2]\n",
      "25 class: [0] feature: [5.  3.  1.6 0.2]\n",
      "26 class: [0] feature: [5.  3.4 1.6 0.4]\n",
      "27 class: [0] feature: [5.2 3.5 1.5 0.2]\n",
      "28 class: [0] feature: [5.2 3.4 1.4 0.2]\n",
      "29 class: [0] feature: [4.7 3.2 1.6 0.2]\n",
      "30 class: [0] feature: [4.8 3.1 1.6 0.2]\n",
      "31 class: [0] feature: [5.4 3.4 1.5 0.4]\n",
      "32 class: [0] feature: [5.2 4.1 1.5 0.1]\n",
      "33 class: [0] feature: [5.5 4.2 1.4 0.2]\n",
      "34 class: [0] feature: [4.9 3.1 1.5 0.2]\n",
      "35 class: [0] feature: [5.  3.2 1.2 0.2]\n",
      "36 class: [0] feature: [5.5 3.5 1.3 0.2]\n",
      "37 class: [0] feature: [4.9 3.6 1.4 0.1]\n",
      "38 class: [0] feature: [4.4 3.  1.3 0.2]\n",
      "39 class: [0] feature: [5.1 3.4 1.5 0.2]\n",
      "40 class: [0] feature: [5.  3.5 1.3 0.3]\n",
      "41 class: [0] feature: [4.5 2.3 1.3 0.3]\n",
      "42 class: [0] feature: [4.4 3.2 1.3 0.2]\n",
      "43 class: [0] feature: [5.  3.5 1.6 0.6]\n",
      "44 class: [0] feature: [5.1 3.8 1.9 0.4]\n",
      "45 class: [0] feature: [4.8 3.  1.4 0.3]\n",
      "46 class: [0] feature: [5.1 3.8 1.6 0.2]\n",
      "47 class: [0] feature: [4.6 3.2 1.4 0.2]\n",
      "48 class: [0] feature: [5.3 3.7 1.5 0.2]\n",
      "49 class: [0] feature: [5.  3.3 1.4 0.2]\n",
      "50 class: [1] feature: [7.  3.2 4.7 1.4]\n",
      "51 class: [1] feature: [6.4 3.2 4.5 1.5]\n",
      "52 class: [1] feature: [6.9 3.1 4.9 1.5]\n",
      "53 class: [1] feature: [5.5 2.3 4.  1.3]\n",
      "54 class: [1] feature: [6.5 2.8 4.6 1.5]\n",
      "55 class: [1] feature: [5.7 2.8 4.5 1.3]\n",
      "56 class: [1] feature: [6.3 3.3 4.7 1.6]\n",
      "57 class: [1] feature: [4.9 2.4 3.3 1. ]\n",
      "58 class: [1] feature: [6.6 2.9 4.6 1.3]\n",
      "59 class: [1] feature: [5.2 2.7 3.9 1.4]\n",
      "60 class: [1] feature: [5.  2.  3.5 1. ]\n",
      "61 class: [1] feature: [5.9 3.  4.2 1.5]\n",
      "62 class: [1] feature: [6.  2.2 4.  1. ]\n",
      "63 class: [1] feature: [6.1 2.9 4.7 1.4]\n",
      "64 class: [1] feature: [5.6 2.9 3.6 1.3]\n",
      "65 class: [1] feature: [6.7 3.1 4.4 1.4]\n",
      "66 class: [1] feature: [5.6 3.  4.5 1.5]\n",
      "67 class: [1] feature: [5.8 2.7 4.1 1. ]\n",
      "68 class: [1] feature: [6.2 2.2 4.5 1.5]\n",
      "69 class: [1] feature: [5.6 2.5 3.9 1.1]\n",
      "70 class: [2] feature: [5.9 3.2 4.8 1.8]\n",
      "71 class: [1] feature: [6.1 2.8 4.  1.3]\n",
      "72 class: [2] feature: [6.3 2.5 4.9 1.5]\n",
      "73 class: [1] feature: [6.1 2.8 4.7 1.2]\n",
      "74 class: [1] feature: [6.4 2.9 4.3 1.3]\n",
      "75 class: [1] feature: [6.6 3.  4.4 1.4]\n",
      "76 class: [1] feature: [6.8 2.8 4.8 1.4]\n",
      "77 class: [1] feature: [6.7 3.  5.  1.7]\n",
      "78 class: [1] feature: [6.  2.9 4.5 1.5]\n",
      "79 class: [1] feature: [5.7 2.6 3.5 1. ]\n",
      "80 class: [1] feature: [5.5 2.4 3.8 1.1]\n",
      "81 class: [1] feature: [5.5 2.4 3.7 1. ]\n",
      "82 class: [1] feature: [5.8 2.7 3.9 1.2]\n",
      "83 class: [2] feature: [6.  2.7 5.1 1.6]\n",
      "84 class: [1] feature: [5.4 3.  4.5 1.5]\n",
      "85 class: [1] feature: [6.  3.4 4.5 1.6]\n",
      "86 class: [1] feature: [6.7 3.1 4.7 1.5]\n",
      "87 class: [1] feature: [6.3 2.3 4.4 1.3]\n",
      "88 class: [1] feature: [5.6 3.  4.1 1.3]\n",
      "89 class: [1] feature: [5.5 2.5 4.  1.3]\n",
      "90 class: [1] feature: [5.5 2.6 4.4 1.2]\n",
      "91 class: [1] feature: [6.1 3.  4.6 1.4]\n",
      "92 class: [1] feature: [5.8 2.6 4.  1.2]\n",
      "93 class: [1] feature: [5.  2.3 3.3 1. ]\n",
      "94 class: [1] feature: [5.6 2.7 4.2 1.3]\n",
      "95 class: [1] feature: [5.7 3.  4.2 1.2]\n",
      "96 class: [1] feature: [5.7 2.9 4.2 1.3]\n",
      "97 class: [1] feature: [6.2 2.9 4.3 1.3]\n",
      "98 class: [1] feature: [5.1 2.5 3.  1.1]\n",
      "99 class: [1] feature: [5.7 2.8 4.1 1.3]\n",
      "100 class: [2] feature: [6.3 3.3 6.  2.5]\n",
      "101 class: [2] feature: [5.8 2.7 5.1 1.9]\n",
      "102 class: [2] feature: [7.1 3.  5.9 2.1]\n",
      "103 class: [2] feature: [6.3 2.9 5.6 1.8]\n",
      "104 class: [2] feature: [6.5 3.  5.8 2.2]\n",
      "105 class: [2] feature: [7.6 3.  6.6 2.1]\n",
      "106 class: [1] feature: [4.9 2.5 4.5 1.7]\n",
      "107 class: [2] feature: [7.3 2.9 6.3 1.8]\n",
      "108 class: [2] feature: [6.7 2.5 5.8 1.8]\n",
      "109 class: [2] feature: [7.2 3.6 6.1 2.5]\n",
      "110 class: [2] feature: [6.5 3.2 5.1 2. ]\n",
      "111 class: [2] feature: [6.4 2.7 5.3 1.9]\n",
      "112 class: [2] feature: [6.8 3.  5.5 2.1]\n",
      "113 class: [2] feature: [5.7 2.5 5.  2. ]\n",
      "114 class: [2] feature: [5.8 2.8 5.1 2.4]\n",
      "115 class: [2] feature: [6.4 3.2 5.3 2.3]\n",
      "116 class: [2] feature: [6.5 3.  5.5 1.8]\n",
      "117 class: [2] feature: [7.7 3.8 6.7 2.2]\n",
      "118 class: [2] feature: [7.7 2.6 6.9 2.3]\n",
      "119 class: [1] feature: [6.  2.2 5.  1.5]\n",
      "120 class: [2] feature: [6.9 3.2 5.7 2.3]\n",
      "121 class: [2] feature: [5.6 2.8 4.9 2. ]\n",
      "122 class: [2] feature: [7.7 2.8 6.7 2. ]\n",
      "123 class: [2] feature: [6.3 2.7 4.9 1.8]\n",
      "124 class: [2] feature: [6.7 3.3 5.7 2.1]\n",
      "125 class: [2] feature: [7.2 3.2 6.  1.8]\n",
      "126 class: [2] feature: [6.2 2.8 4.8 1.8]\n",
      "127 class: [2] feature: [6.1 3.  4.9 1.8]\n",
      "128 class: [2] feature: [6.4 2.8 5.6 2.1]\n",
      "129 class: [2] feature: [7.2 3.  5.8 1.6]\n",
      "130 class: [2] feature: [7.4 2.8 6.1 1.9]\n",
      "131 class: [2] feature: [7.9 3.8 6.4 2. ]\n",
      "132 class: [2] feature: [6.4 2.8 5.6 2.2]\n",
      "133 class: [2] feature: [6.3 2.8 5.1 1.5]\n",
      "134 class: [2] feature: [6.1 2.6 5.6 1.4]\n",
      "135 class: [2] feature: [7.7 3.  6.1 2.3]\n",
      "136 class: [2] feature: [6.3 3.4 5.6 2.4]\n",
      "137 class: [2] feature: [6.4 3.1 5.5 1.8]\n",
      "138 class: [2] feature: [6.  3.  4.8 1.8]\n",
      "139 class: [2] feature: [6.9 3.1 5.4 2.1]\n",
      "140 class: [2] feature: [6.7 3.1 5.6 2.4]\n",
      "141 class: [2] feature: [6.9 3.1 5.1 2.3]\n",
      "142 class: [2] feature: [5.8 2.7 5.1 1.9]\n",
      "143 class: [2] feature: [6.8 3.2 5.9 2.3]\n",
      "144 class: [2] feature: [6.7 3.3 5.7 2.5]\n",
      "145 class: [2] feature: [6.7 3.  5.2 2.3]\n",
      "146 class: [2] feature: [6.3 2.5 5.  1.9]\n",
      "147 class: [2] feature: [6.5 3.  5.2 2. ]\n",
      "148 class: [2] feature: [6.2 3.4 5.4 2.3]\n",
      "149 class: [2] feature: [5.9 3.  5.1 1.8]\n"
     ]
    }
   ],
   "source": [
    "a = 0\n",
    "\n",
    "for i in X_iris:\n",
    "    print(a, 'class:', kn.predict([i]), 'feature:', X_iris[a])\n",
    "    a += 1"
   ]
  },
  {
   "cell_type": "code",
   "execution_count": 21,
   "metadata": {},
   "outputs": [
    {
     "name": "stdout",
     "output_type": "stream",
     "text": [
      "이웃수:1  1.0\n",
      "이웃수:2  0.98\n",
      "이웃수:3  0.96\n",
      "이웃수:4  0.96\n",
      "이웃수:5  0.9666666666666667\n",
      "이웃수:6  0.9733333333333334\n",
      "이웃수:7  0.9733333333333334\n",
      "이웃수:8  0.98\n",
      "이웃수:9  0.98\n",
      "이웃수:10  0.98\n",
      "이웃수:11  0.9733333333333334\n",
      "이웃수:12  0.98\n",
      "이웃수:13  0.98\n",
      "이웃수:14  0.98\n",
      "이웃수:15  0.9866666666666667\n",
      "이웃수:16  0.9866666666666667\n",
      "이웃수:17  0.98\n",
      "이웃수:18  0.9733333333333334\n",
      "이웃수:19  0.98\n",
      "이웃수:20  0.98\n"
     ]
    }
   ],
   "source": [
    "for n in range(1,20+1):\n",
    "    # 모델 인스턴스 생성\n",
    "    kn = KNeighborsClassifier(n_neighbors=n)\n",
    "    # 학습\n",
    "    kn.fit(X_iris, y_iris)\n",
    "    # 평가\n",
    "    print('이웃수:%d ' %n, kn.score(X_iris, y_iris))\n"
   ]
  },
  {
   "cell_type": "code",
   "execution_count": 22,
   "metadata": {},
   "outputs": [],
   "source": [
    "from sklearn.model_selection import train_test_split\n",
    "X_train, y_train, X_target, y_target = train_test_split(X_iris, y_iris, random_state=42)"
   ]
  },
  {
   "cell_type": "code",
   "execution_count": 23,
   "metadata": {},
   "outputs": [
    {
     "name": "stdout",
     "output_type": "stream",
     "text": [
      "(112, 4)\n",
      "(38, 4)\n",
      "(112,)\n",
      "(38,)\n"
     ]
    }
   ],
   "source": [
    "print(X_train.shape)\n",
    "print(y_train.shape)\n",
    "print(X_target.shape)\n",
    "print(y_target.shape)"
   ]
  },
  {
   "cell_type": "code",
   "execution_count": 24,
   "metadata": {},
   "outputs": [
    {
     "data": {
      "text/plain": [
       "1.0"
      ]
     },
     "execution_count": 24,
     "metadata": {},
     "output_type": "execute_result"
    }
   ],
   "source": [
    "from sklearn.neighbors import KNeighborsClassifier\n",
    "model = KNeighborsClassifier()\n",
    "model.fit(X_train, X_target)\n",
    "model.score(y_train, y_target)"
   ]
  },
  {
   "cell_type": "code",
   "execution_count": 25,
   "metadata": {},
   "outputs": [
    {
     "data": {
      "text/plain": [
       "array([1])"
      ]
     },
     "execution_count": 25,
     "metadata": {},
     "output_type": "execute_result"
    }
   ],
   "source": [
    "model.predict([[10, 4, 2, 1]])"
   ]
  },
  {
   "cell_type": "code",
   "execution_count": 26,
   "metadata": {},
   "outputs": [
    {
     "data": {
      "image/png": "[encoded data removed]",
      "text/plain": [
       "<Figure size 432x288 with 1 Axes>"
      ]
     },
     "metadata": {
      "needs_background": "light"
     },
     "output_type": "display_data"
    }
   ],
   "source": [
    "plt.scatter(petal_length[:50], petal_width[:50])\n",
    "plt.scatter(petal_length[50:100], petal_width[50:100])\n",
    "plt.scatter(petal_length[100:], petal_width[50:100])\n",
    "plt.scatter(2, 1, marker='+')\n",
    "\n",
    "plt.xlabel('petal_length')\n",
    "plt.ylabel('petal_width')\n",
    "plt.show()"
   ]
  },
  {
   "cell_type": "code",
   "execution_count": 27,
   "metadata": {},
   "outputs": [
    {
     "name": "stdout",
     "output_type": "stream",
     "text": [
      "[[4.13400532 4.29883705 4.34971263 4.36806593 4.38634244]]\n",
      "[[ 74  10 109  97   4]]\n"
     ]
    }
   ],
   "source": [
    "distances, indexes = model.kneighbors([[10, 4, 2, 1]])\n",
    "print(distances)\n",
    "print(indexes)"
   ]
  },
  {
   "cell_type": "code",
   "execution_count": 28,
   "metadata": {},
   "outputs": [
    {
     "name": "stdout",
     "output_type": "stream",
     "text": [
      "[7.  3.2 4.7 1.4]\n",
      "[6.6 3.  4.4 1.4]\n",
      "[5.8 4.  1.2 0.2]\n",
      "[6.9 3.1 4.9 1.5]\n",
      "[6.7 3.1 4.7 1.5]\n"
     ]
    }
   ],
   "source": [
    "print(X_train[74])\n",
    "print(X_train[10])\n",
    "print(X_train[109])\n",
    "print(X_train[97])\n",
    "print(X_train[4])"
   ]
  },
  {
   "cell_type": "code",
   "execution_count": 29,
   "metadata": {},
   "outputs": [
    {
     "name": "stdout",
     "output_type": "stream",
     "text": [
      "[[-1.01827123  1.2864604  -1.39338902 -1.3621769 ]\n",
      " [-0.7730102   2.43545215 -1.33550342 -1.49647603]\n",
      " [-0.03722712 -0.78172474  0.74837808  0.92090833]\n",
      " [ 0.20803391  0.8268637   0.4010645   0.51801093]\n",
      " [ 1.06644751  0.13746866  0.51683569  0.3837118 ]\n",
      " [-0.52774918  1.97585545 -1.45127462 -1.09357864]\n",
      " [-0.52774918  1.51625875 -1.33550342 -1.3621769 ]\n",
      " [-0.40511866 -1.47111979 -0.06202028 -0.28778385]\n",
      " [ 0.57592545 -0.55192639  0.74837808  0.3837118 ]\n",
      " [ 0.69855596  0.13746866  0.97992047  0.7866092 ]\n",
      " [ 0.94381699 -0.09232969  0.3431789   0.24941267]\n",
      " [ 1.67960008  1.2864604   1.32723405  1.72670311]\n",
      " [-0.15985763 -0.32212804  0.2274077   0.11511354]\n",
      " [ 2.17012213 -0.09232969  1.61666204  1.18950659]\n",
      " [-0.28248815 -0.09232969  0.4010645   0.3837118 ]\n",
      " [-0.89564072  1.05666205 -1.39338902 -1.3621769 ]\n",
      " [ 2.29275265 -0.55192639  1.67454764  1.05520746]\n",
      " [-0.03722712 -0.78172474  0.16952211 -0.28778385]\n",
      " [-0.7730102   0.8268637  -1.39338902 -1.3621769 ]\n",
      " [-1.01827123  1.05666205 -1.45127462 -1.22787777]\n",
      " [-0.89564072  1.7460571  -1.10396103 -1.09357864]\n",
      " [-1.01827123 -2.39031318 -0.17779148 -0.28778385]\n",
      " [ 0.57592545 -0.78172474  0.63260689  0.7866092 ]\n",
      " [-1.26353226  0.8268637  -1.10396103 -1.3621769 ]\n",
      " [-1.01827123 -0.09232969 -1.27761783 -1.3621769 ]\n",
      " [-0.89564072  0.59706535 -1.21973223 -0.95927951]\n",
      " [-0.28248815 -0.78172474  0.2274077   0.11511354]\n",
      " [-0.89564072  0.8268637  -1.33550342 -1.3621769 ]\n",
      " [-0.15985763 -0.09232969  0.2274077  -0.01918559]\n",
      " [ 2.29275265  1.7460571   1.67454764  1.32380572]\n",
      " [-1.50879329  0.367267   -1.39338902 -1.3621769 ]\n",
      " [ 0.45329494 -0.32212804  0.2852933   0.11511354]\n",
      " [-0.15985763 -1.24132144  0.69049248  1.05520746]\n",
      " [-0.40511866  2.66525049 -1.39338902 -1.3621769 ]\n",
      " [ 0.20803391 -0.09232969  0.57472129  0.7866092 ]\n",
      " [-0.03722712 -0.78172474  0.74837808  0.92090833]\n",
      " [ 0.20803391 -1.93071649  0.11163651 -0.28778385]\n",
      " [-0.52774918 -0.09232969  0.4010645   0.3837118 ]\n",
      " [ 0.45329494  0.8268637   0.92203487  1.45810485]\n",
      " [-0.40511866 -1.70091814  0.11163651  0.11511354]\n",
      " [-0.52774918  1.97585545 -1.21973223 -1.09357864]\n",
      " [-1.01827123 -1.70091814 -0.29356267 -0.28778385]\n",
      " [ 0.69855596 -0.78172474  0.86414927  0.92090833]\n",
      " [-1.01827123  0.59706535 -1.39338902 -1.3621769 ]\n",
      " [-1.01827123  0.367267   -1.50916022 -1.3621769 ]\n",
      " [-0.40511866 -1.47111979 -0.00413469 -0.15348472]\n",
      " [ 1.06644751 -0.09232969  0.69049248  0.65231006]\n",
      " [-1.14090175  0.13746866 -1.33550342 -1.3621769 ]\n",
      " [-0.03722712 -0.55192639  0.74837808  1.59240398]\n",
      " [-1.01827123  0.8268637  -1.33550342 -1.3621769 ]\n",
      " [-1.01827123  1.05666205 -1.27761783 -0.82498038]\n",
      " [ 0.08540339  0.367267    0.57472129  0.7866092 ]\n",
      " [-0.89564072 -1.24132144 -0.46721946 -0.15348472]\n",
      " [ 1.31170853  0.367267    1.09569166  1.45810485]\n",
      " [ 0.20803391 -0.78172474  0.74837808  0.51801093]\n",
      " [ 0.33066442 -1.01152309  1.03780607  0.24941267]\n",
      " [ 2.29275265 -0.09232969  1.32723405  1.45810485]\n",
      " [-0.40511866 -1.24132144  0.11163651  0.11511354]\n",
      " [-1.75405432 -0.32212804 -1.39338902 -1.3621769 ]\n",
      " [-1.87668483 -0.09232969 -1.56704581 -1.49647603]\n",
      " [ 0.20803391 -1.93071649  0.69049248  0.3837118 ]\n",
      " [ 1.67960008  0.367267    1.26934846  0.7866092 ]\n",
      " [-1.50879329  0.13746866 -1.33550342 -1.3621769 ]\n",
      " [-0.89564072  1.05666205 -1.39338902 -1.22787777]\n",
      " [-1.75405432 -0.09232969 -1.45127462 -1.3621769 ]\n",
      " [ 0.57592545 -1.24132144  0.63260689  0.3837118 ]\n",
      " [ 0.57592545  0.8268637   1.03780607  1.59240398]\n",
      " [-1.50879329  0.8268637  -1.39338902 -1.22787777]\n",
      " [ 1.18907802 -0.09232969  0.97992047  1.18950659]\n",
      " [ 0.57592545  0.59706535  1.26934846  1.72670311]\n",
      " [-1.38616278  0.367267   -1.45127462 -1.3621769 ]\n",
      " [ 0.33066442 -0.32212804  0.51683569  0.24941267]\n",
      " [ 0.82118648 -0.55192639  0.45895009  0.3837118 ]\n",
      " [ 0.45329494 -0.55192639  0.57472129  0.7866092 ]\n",
      " [ 1.43433905  0.367267    0.51683569  0.24941267]\n",
      " [ 0.69855596  0.367267    0.86414927  1.45810485]\n",
      " [-0.89564072  1.7460571  -1.27761783 -1.3621769 ]\n",
      " [ 1.31170853  0.13746866  0.92203487  1.18950659]\n",
      " [ 0.08540339 -0.09232969  0.2274077   0.3837118 ]\n",
      " [ 0.82118648 -0.09232969  0.80626368  1.05520746]\n",
      " [-0.15985763 -1.01152309 -0.17779148 -0.28778385]\n",
      " [-0.7730102  -0.78172474  0.05375091  0.24941267]\n",
      " [ 0.33066442 -0.09232969  0.45895009  0.24941267]\n",
      " [-1.6314238  -1.70091814 -1.45127462 -1.22787777]\n",
      " [ 0.94381699 -0.32212804  0.45895009  0.11511354]\n",
      " [-0.40511866 -1.01152309  0.3431789  -0.01918559]\n",
      " [-0.65037969  1.51625875 -1.33550342 -1.3621769 ]\n",
      " [-0.28248815 -0.09232969  0.16952211  0.11511354]\n",
      " [ 1.80223059 -0.32212804  1.44300525  0.7866092 ]\n",
      " [ 1.06644751  0.59706535  1.09569166  1.18950659]\n",
      " [-0.89564072  1.51625875 -1.33550342 -1.09357864]\n",
      " [-1.14090175 -1.47111979 -0.29356267 -0.28778385]\n",
      " [ 1.06644751  0.59706535  1.09569166  1.72670311]\n",
      " [ 1.67960008 -0.09232969  1.15357726  0.51801093]\n",
      " [-1.14090175  1.2864604  -1.39338902 -1.49647603]\n",
      " [ 1.06644751  0.13746866  1.03780607  1.59240398]\n",
      " [-1.14090175 -0.09232969 -1.39338902 -1.3621769 ]\n",
      " [ 1.31170853  0.13746866  0.63260689  0.3837118 ]\n",
      " [ 1.9248611  -0.55192639  1.32723405  0.92090833]\n",
      " [ 0.57592545 -0.32212804  1.03780607  0.7866092 ]\n",
      " [-0.15985763 -0.55192639  0.16952211  0.11511354]\n",
      " [ 0.82118648 -0.09232969  0.97992047  0.7866092 ]\n",
      " [ 0.57592545 -1.70091814  0.3431789   0.11511354]\n",
      " [ 0.69855596 -0.32212804  0.2852933   0.11511354]\n",
      " [-0.28248815 -0.55192639  0.63260689  1.05520746]\n",
      " [ 0.08540339 -0.09232969  0.74837808  0.7866092 ]\n",
      " [-0.52774918  0.8268637  -1.21973223 -1.3621769 ]\n",
      " [ 0.33066442 -0.55192639  0.11163651  0.11511354]\n",
      " [-1.14090175 -1.24132144  0.4010645   0.65231006]\n",
      " [-0.03722712  2.2056538  -1.50916022 -1.3621769 ]\n",
      " [-0.03722712 -1.01152309  0.11163651 -0.01918559]\n",
      " [ 1.55696956 -0.09232969  1.21146286  1.18950659]]\n"
     ]
    }
   ],
   "source": [
    "mean = np.mean(X_train, axis=0)  # feature column별 평균\n",
    "std = np.std(X_train, axis=0)  # 표준편차\n",
    "# print(mean, std)\n",
    "X_train_scaled = (X_train - mean) / std\n",
    "print(X_train_scaled)"
   ]
  },
  {
   "cell_type": "code",
   "execution_count": 30,
   "metadata": {},
   "outputs": [
    {
     "data": {
      "text/plain": [
       "array([[ 0.33066442, -0.55192639,  0.51683569, -0.01918559],\n",
       "       [-0.15985763,  1.7460571 , -1.21973223, -1.22787777],\n",
       "       [ 2.29275265, -1.01152309,  1.79031883,  1.45810485],\n",
       "       [ 0.20803391, -0.32212804,  0.4010645 ,  0.3837118 ],\n",
       "       [ 1.18907802, -0.55192639,  0.57472129,  0.24941267],\n",
       "       [-0.52774918,  0.8268637 , -1.33550342, -1.09357864],\n",
       "       [-0.28248815, -0.32212804, -0.11990588,  0.11511354],\n",
       "       [ 1.31170853,  0.13746866,  0.74837808,  1.45810485],\n",
       "       [ 0.45329494, -1.93071649,  0.4010645 ,  0.3837118 ],\n",
       "       [-0.03722712, -0.78172474,  0.05375091, -0.01918559],\n",
       "       [ 0.82118648,  0.367267  ,  0.74837808,  1.05520746],\n",
       "       [-1.26353226, -0.09232969, -1.39338902, -1.49647603],\n",
       "       [-0.40511866,  1.05666205, -1.45127462, -1.3621769 ],\n",
       "       [-1.14090175,  0.13746866, -1.33550342, -1.49647603],\n",
       "       [-0.89564072,  1.7460571 , -1.33550342, -1.22787777],\n",
       "       [ 0.57592545,  0.59706535,  0.51683569,  0.51801093],\n",
       "       [ 0.82118648, -0.09232969,  1.15357726,  1.32380572],\n",
       "       [-0.28248815, -1.24132144,  0.05375091, -0.15348472],\n",
       "       [-0.15985763, -0.55192639,  0.4010645 ,  0.11511354],\n",
       "       [ 0.69855596, -0.55192639,  1.03780607,  1.32380572],\n",
       "       [-1.38616278,  0.367267  , -1.27761783, -1.3621769 ],\n",
       "       [ 0.33066442, -0.09232969,  0.63260689,  0.7866092 ],\n",
       "       [-1.01827123,  0.8268637 , -1.27761783, -1.09357864],\n",
       "       [ 0.69855596, -0.55192639,  1.03780607,  1.18950659],\n",
       "       [ 2.53801368,  1.7460571 ,  1.50089084,  1.05520746],\n",
       "       [ 1.06644751, -0.09232969,  0.80626368,  1.45810485],\n",
       "       [ 1.06644751, -1.24132144,  1.15357726,  0.7866092 ],\n",
       "       [ 1.18907802,  0.367267  ,  1.21146286,  1.45810485],\n",
       "       [-1.26353226, -0.09232969, -1.39338902, -1.22787777],\n",
       "       [-1.26353226,  0.13746866, -1.27761783, -1.3621769 ],\n",
       "       [-1.50879329,  1.2864604 , -1.62493141, -1.3621769 ],\n",
       "       [-0.15985763,  3.12484719, -1.33550342, -1.09357864],\n",
       "       [ 1.06644751,  0.13746866,  0.3431789 ,  0.24941267],\n",
       "       [-1.26353226,  0.8268637 , -1.27761783, -1.3621769 ],\n",
       "       [-1.75405432,  0.367267  , -1.45127462, -1.3621769 ],\n",
       "       [ 0.57592545, -1.24132144,  0.69049248,  0.92090833],\n",
       "       [ 0.69855596,  0.367267  ,  0.4010645 ,  0.3837118 ],\n",
       "       [-0.7730102 ,  1.05666205, -1.33550342, -1.3621769 ]])"
      ]
     },
     "execution_count": 30,
     "metadata": {},
     "output_type": "execute_result"
    }
   ],
   "source": [
    "y_scaled = (y_train - mean) / std\n",
    "y_scaled"
   ]
  },
  {
   "cell_type": "code",
   "execution_count": 31,
   "metadata": {},
   "outputs": [
    {
     "data": {
      "text/plain": [
       "1.0"
      ]
     },
     "execution_count": 31,
     "metadata": {},
     "output_type": "execute_result"
    }
   ],
   "source": [
    "model.fit(X_train_scaled, X_target)\n",
    "model.score(y_scaled, y_target)"
   ]
  },
  {
   "cell_type": "code",
   "execution_count": 32,
   "metadata": {},
   "outputs": [
    {
     "data": {
      "text/plain": [
       "array([2])"
      ]
     },
     "execution_count": 32,
     "metadata": {},
     "output_type": "execute_result"
    }
   ],
   "source": [
    "model.predict([[10, 4, 2, 1]])"
   ]
  },
  {
   "cell_type": "code",
   "execution_count": 33,
   "metadata": {},
   "outputs": [
    {
     "name": "stdout",
     "output_type": "stream",
     "text": [
      "[[8.0431766  8.76420551 8.80755718 8.84516876 8.95715707]]\n",
      "[[29 56 11 13 16]]\n"
     ]
    }
   ],
   "source": [
    "distances, indexes = model.kneighbors([[10, 4, 2, 1]])\n",
    "print(distances)\n",
    "print(indexes)"
   ]
  },
  {
   "cell_type": "code",
   "execution_count": 34,
   "metadata": {},
   "outputs": [
    {
     "data": {
      "text/plain": [
       "0.9835594886922321"
      ]
     },
     "execution_count": 34,
     "metadata": {},
     "output_type": "execute_result"
    }
   ],
   "source": [
    "# 회귀모델 R^2\n",
    "from sklearn.neighbors import KNeighborsRegressor\n",
    "\n",
    "knr = KNeighborsRegressor()\n",
    "knr.fit(X_train, X_target)\n",
    "knr.score(y_train, y_target)"
   ]
  },
  {
   "cell_type": "code",
   "execution_count": 35,
   "metadata": {},
   "outputs": [
    {
     "name": "stdout",
     "output_type": "stream",
     "text": [
      "0.036842105263157884\n"
     ]
    }
   ],
   "source": [
    "# 평균 절대값 오차 확인\n",
    "from sklearn.metrics import mean_absolute_error\n",
    "\n",
    "y_predict = knr.predict(y_train)\n",
    "# print(y_predict)\n",
    "\n",
    "mae = mean_absolute_error(y_target, y_predict)\n",
    "\n",
    "print(mae)"
   ]
  },
  {
   "cell_type": "code",
   "execution_count": 36,
   "metadata": {},
   "outputs": [
    {
     "name": "stdout",
     "output_type": "stream",
     "text": [
      "0.9588588220888943\n",
      "0.9835594886922321\n"
     ]
    }
   ],
   "source": [
    "print(knr.score(X_train, X_target))  # 훈련데이터점수\n",
    "print(knr.score(y_train, y_target))  # 테스트데이터점수"
   ]
  },
  {
   "cell_type": "code",
   "execution_count": 37,
   "metadata": {},
   "outputs": [
    {
     "name": "stdout",
     "output_type": "stream",
     "text": [
      "75: 0.6123001673401085 0.6158300884955753 -0.0035299211554667975\n",
      "76: 0.603626783959635 0.6043251565491903 -0.0006983725895552961\n",
      "77: 0.5955433860083392 0.5924596416493901 0.003083744358949092\n",
      "78: 0.5841860337061475 0.5822991394808958 0.0018868942252516785\n",
      "79: 0.5694250412402359 0.5676376144873791 0.0017874267528567023\n",
      "80: 0.55562385208767 0.5536132620452312 0.0020105900424387535\n",
      "81: 0.5414732845837953 0.5385353427039821 0.0029379418798132217\n",
      "82: 0.5274495588702433 0.522665255791345 0.004784303078898211\n",
      "83: 0.5110595851447173 0.5059266100903597 0.005132975054357614\n",
      "84: 0.4975870761348905 0.49378005872949005 0.003807017405400459\n"
     ]
    }
   ],
   "source": [
    "a = 1\n",
    "# x = np.arange(50, 100).reshape(-1,1)\n",
    "\n",
    "for k in range(75, 85):\n",
    "    knr.n_neighbors = k\n",
    "    knr.fit(X_train, X_target)\n",
    "    X_score = knr.score(X_train, X_target)\n",
    "    y_score = knr.score(y_train, y_target)\n",
    "    print(f'{k}: {X_score} {y_score} {X_score-y_score}')\n",
    "    a += 1\n",
    "\n",
    "    # pred = knr.predict(x)\n",
    "\n",
    "    # plt.scatter(X_train, X_target)\n",
    "    # plt.plot(x, pred)\n",
    "    # plt.show()\n"
   ]
  },
  {
   "cell_type": "code",
   "execution_count": 38,
   "metadata": {},
   "outputs": [
    {
     "data": {
      "text/plain": [
       "array([[5.1, 3.5, 1.4, 0.2],\n",
       "       [4.9, 3. , 1.4, 0.2],\n",
       "       [4.7, 3.2, 1.3, 0.2],\n",
       "       [4.6, 3.1, 1.5, 0.2],\n",
       "       [5. , 3.6, 1.4, 0.2],\n",
       "       [5.4, 3.9, 1.7, 0.4],\n",
       "       [4.6, 3.4, 1.4, 0.3],\n",
       "       [5. , 3.4, 1.5, 0.2],\n",
       "       [4.4, 2.9, 1.4, 0.2],\n",
       "       [4.9, 3.1, 1.5, 0.1],\n",
       "       [5.4, 3.7, 1.5, 0.2],\n",
       "       [4.8, 3.4, 1.6, 0.2],\n",
       "       [4.8, 3. , 1.4, 0.1],\n",
       "       [4.3, 3. , 1.1, 0.1],\n",
       "       [5.8, 4. , 1.2, 0.2],\n",
       "       [5.7, 4.4, 1.5, 0.4],\n",
       "       [5.4, 3.9, 1.3, 0.4],\n",
       "       [5.1, 3.5, 1.4, 0.3],\n",
       "       [5.7, 3.8, 1.7, 0.3],\n",
       "       [5.1, 3.8, 1.5, 0.3],\n",
       "       [5.4, 3.4, 1.7, 0.2],\n",
       "       [5.1, 3.7, 1.5, 0.4],\n",
       "       [4.6, 3.6, 1. , 0.2],\n",
       "       [5.1, 3.3, 1.7, 0.5],\n",
       "       [4.8, 3.4, 1.9, 0.2],\n",
       "       [5. , 3. , 1.6, 0.2],\n",
       "       [5. , 3.4, 1.6, 0.4],\n",
       "       [5.2, 3.5, 1.5, 0.2],\n",
       "       [5.2, 3.4, 1.4, 0.2],\n",
       "       [4.7, 3.2, 1.6, 0.2],\n",
       "       [4.8, 3.1, 1.6, 0.2],\n",
       "       [5.4, 3.4, 1.5, 0.4],\n",
       "       [5.2, 4.1, 1.5, 0.1],\n",
       "       [5.5, 4.2, 1.4, 0.2],\n",
       "       [4.9, 3.1, 1.5, 0.2],\n",
       "       [5. , 3.2, 1.2, 0.2],\n",
       "       [5.5, 3.5, 1.3, 0.2],\n",
       "       [4.9, 3.6, 1.4, 0.1],\n",
       "       [4.4, 3. , 1.3, 0.2],\n",
       "       [5.1, 3.4, 1.5, 0.2],\n",
       "       [5. , 3.5, 1.3, 0.3],\n",
       "       [4.5, 2.3, 1.3, 0.3],\n",
       "       [4.4, 3.2, 1.3, 0.2],\n",
       "       [5. , 3.5, 1.6, 0.6],\n",
       "       [5.1, 3.8, 1.9, 0.4],\n",
       "       [4.8, 3. , 1.4, 0.3],\n",
       "       [5.1, 3.8, 1.6, 0.2],\n",
       "       [4.6, 3.2, 1.4, 0.2],\n",
       "       [5.3, 3.7, 1.5, 0.2],\n",
       "       [5. , 3.3, 1.4, 0.2],\n",
       "       [7. , 3.2, 4.7, 1.4],\n",
       "       [6.4, 3.2, 4.5, 1.5],\n",
       "       [6.9, 3.1, 4.9, 1.5],\n",
       "       [5.5, 2.3, 4. , 1.3],\n",
       "       [6.5, 2.8, 4.6, 1.5],\n",
       "       [5.7, 2.8, 4.5, 1.3],\n",
       "       [6.3, 3.3, 4.7, 1.6],\n",
       "       [4.9, 2.4, 3.3, 1. ],\n",
       "       [6.6, 2.9, 4.6, 1.3],\n",
       "       [5.2, 2.7, 3.9, 1.4],\n",
       "       [5. , 2. , 3.5, 1. ],\n",
       "       [5.9, 3. , 4.2, 1.5],\n",
       "       [6. , 2.2, 4. , 1. ],\n",
       "       [6.1, 2.9, 4.7, 1.4],\n",
       "       [5.6, 2.9, 3.6, 1.3],\n",
       "       [6.7, 3.1, 4.4, 1.4],\n",
       "       [5.6, 3. , 4.5, 1.5],\n",
       "       [5.8, 2.7, 4.1, 1. ],\n",
       "       [6.2, 2.2, 4.5, 1.5],\n",
       "       [5.6, 2.5, 3.9, 1.1],\n",
       "       [5.9, 3.2, 4.8, 1.8],\n",
       "       [6.1, 2.8, 4. , 1.3],\n",
       "       [6.3, 2.5, 4.9, 1.5],\n",
       "       [6.1, 2.8, 4.7, 1.2],\n",
       "       [6.4, 2.9, 4.3, 1.3],\n",
       "       [6.6, 3. , 4.4, 1.4],\n",
       "       [6.8, 2.8, 4.8, 1.4],\n",
       "       [6.7, 3. , 5. , 1.7],\n",
       "       [6. , 2.9, 4.5, 1.5],\n",
       "       [5.7, 2.6, 3.5, 1. ],\n",
       "       [5.5, 2.4, 3.8, 1.1],\n",
       "       [5.5, 2.4, 3.7, 1. ],\n",
       "       [5.8, 2.7, 3.9, 1.2],\n",
       "       [6. , 2.7, 5.1, 1.6],\n",
       "       [5.4, 3. , 4.5, 1.5],\n",
       "       [6. , 3.4, 4.5, 1.6],\n",
       "       [6.7, 3.1, 4.7, 1.5],\n",
       "       [6.3, 2.3, 4.4, 1.3],\n",
       "       [5.6, 3. , 4.1, 1.3],\n",
       "       [5.5, 2.5, 4. , 1.3],\n",
       "       [5.5, 2.6, 4.4, 1.2],\n",
       "       [6.1, 3. , 4.6, 1.4],\n",
       "       [5.8, 2.6, 4. , 1.2],\n",
       "       [5. , 2.3, 3.3, 1. ],\n",
       "       [5.6, 2.7, 4.2, 1.3],\n",
       "       [5.7, 3. , 4.2, 1.2],\n",
       "       [5.7, 2.9, 4.2, 1.3],\n",
       "       [6.2, 2.9, 4.3, 1.3],\n",
       "       [5.1, 2.5, 3. , 1.1],\n",
       "       [5.7, 2.8, 4.1, 1.3],\n",
       "       [6.3, 3.3, 6. , 2.5],\n",
       "       [5.8, 2.7, 5.1, 1.9],\n",
       "       [7.1, 3. , 5.9, 2.1],\n",
       "       [6.3, 2.9, 5.6, 1.8],\n",
       "       [6.5, 3. , 5.8, 2.2],\n",
       "       [7.6, 3. , 6.6, 2.1],\n",
       "       [4.9, 2.5, 4.5, 1.7],\n",
       "       [7.3, 2.9, 6.3, 1.8],\n",
       "       [6.7, 2.5, 5.8, 1.8],\n",
       "       [7.2, 3.6, 6.1, 2.5],\n",
       "       [6.5, 3.2, 5.1, 2. ],\n",
       "       [6.4, 2.7, 5.3, 1.9],\n",
       "       [6.8, 3. , 5.5, 2.1],\n",
       "       [5.7, 2.5, 5. , 2. ],\n",
       "       [5.8, 2.8, 5.1, 2.4],\n",
       "       [6.4, 3.2, 5.3, 2.3],\n",
       "       [6.5, 3. , 5.5, 1.8],\n",
       "       [7.7, 3.8, 6.7, 2.2],\n",
       "       [7.7, 2.6, 6.9, 2.3],\n",
       "       [6. , 2.2, 5. , 1.5],\n",
       "       [6.9, 3.2, 5.7, 2.3],\n",
       "       [5.6, 2.8, 4.9, 2. ],\n",
       "       [7.7, 2.8, 6.7, 2. ],\n",
       "       [6.3, 2.7, 4.9, 1.8],\n",
       "       [6.7, 3.3, 5.7, 2.1],\n",
       "       [7.2, 3.2, 6. , 1.8],\n",
       "       [6.2, 2.8, 4.8, 1.8],\n",
       "       [6.1, 3. , 4.9, 1.8],\n",
       "       [6.4, 2.8, 5.6, 2.1],\n",
       "       [7.2, 3. , 5.8, 1.6],\n",
       "       [7.4, 2.8, 6.1, 1.9],\n",
       "       [7.9, 3.8, 6.4, 2. ],\n",
       "       [6.4, 2.8, 5.6, 2.2],\n",
       "       [6.3, 2.8, 5.1, 1.5],\n",
       "       [6.1, 2.6, 5.6, 1.4],\n",
       "       [7.7, 3. , 6.1, 2.3],\n",
       "       [6.3, 3.4, 5.6, 2.4],\n",
       "       [6.4, 3.1, 5.5, 1.8],\n",
       "       [6. , 3. , 4.8, 1.8],\n",
       "       [6.9, 3.1, 5.4, 2.1],\n",
       "       [6.7, 3.1, 5.6, 2.4],\n",
       "       [6.9, 3.1, 5.1, 2.3],\n",
       "       [5.8, 2.7, 5.1, 1.9],\n",
       "       [6.8, 3.2, 5.9, 2.3],\n",
       "       [6.7, 3.3, 5.7, 2.5],\n",
       "       [6.7, 3. , 5.2, 2.3],\n",
       "       [6.3, 2.5, 5. , 1.9],\n",
       "       [6.5, 3. , 5.2, 2. ],\n",
       "       [6.2, 3.4, 5.4, 2.3],\n",
       "       [5.9, 3. , 5.1, 1.8]])"
      ]
     },
     "execution_count": 38,
     "metadata": {},
     "output_type": "execute_result"
    }
   ],
   "source": [
    "iris.data"
   ]
  },
  {
   "cell_type": "code",
   "execution_count": 39,
   "metadata": {},
   "outputs": [
    {
     "name": "stdout",
     "output_type": "stream",
     "text": [
      "0.9225512936540917\n",
      "0.9487283360348983\n"
     ]
    }
   ],
   "source": [
    "# 다중 선형 회귀\n",
    "from sklearn.linear_model import LinearRegression\n",
    "\n",
    "lr = LinearRegression()\n",
    "lr.fit(X_train, X_target)\n",
    "\n",
    "print(lr.score(X_train, X_target))\n",
    "print(lr.score(y_train, y_target))"
   ]
  },
  {
   "cell_type": "code",
   "execution_count": 40,
   "metadata": {},
   "outputs": [
    {
     "name": "stdout",
     "output_type": "stream",
     "text": [
      "[-0.11548607 -0.05327186  0.26631062  0.52537257]\n",
      "0.21023176385323017\n"
     ]
    }
   ],
   "source": [
    "print(lr.coef_)\n",
    "print(lr.intercept_)"
   ]
  },
  {
   "cell_type": "code",
   "execution_count": 41,
   "metadata": {},
   "outputs": [
    {
     "data": {
      "text/plain": [
       "array([-0.09972262])"
      ]
     },
     "execution_count": 41,
     "metadata": {},
     "output_type": "execute_result"
    }
   ],
   "source": [
    "lr.predict([[10, 4, 2, 1]])"
   ]
  },
  {
   "cell_type": "code",
   "execution_count": 42,
   "metadata": {},
   "outputs": [
    {
     "data": {
      "text/plain": [
       "array([[ 5.  ,  3.6 ,  1.4 ,  0.2 , 25.  , 18.  ,  7.  ,  1.  , 12.96,\n",
       "         5.04,  0.72,  1.96,  0.28,  0.04]])"
      ]
     },
     "execution_count": 42,
     "metadata": {},
     "output_type": "execute_result"
    }
   ],
   "source": [
    "# PolynomialFeatures 활용하기\n",
    "from sklearn.preprocessing import PolynomialFeatures\n",
    "\n",
    "poly = PolynomialFeatures(include_bias=False)\n",
    "poly.fit(X_train)\n",
    "train_poly = poly.transform(X_train)\n",
    "train_poly[:1]"
   ]
  },
  {
   "cell_type": "code",
   "execution_count": 43,
   "metadata": {},
   "outputs": [
    {
     "data": {
      "text/plain": [
       "array([[ 2.,  3.,  4.,  5.,  4.,  6.,  8., 10.,  9., 12., 15., 16., 20.,\n",
       "        25.]])"
      ]
     },
     "execution_count": 43,
     "metadata": {},
     "output_type": "execute_result"
    }
   ],
   "source": [
    "poly.transform([[2,3,4,5]])"
   ]
  },
  {
   "cell_type": "code",
   "execution_count": 44,
   "metadata": {},
   "outputs": [
    {
     "data": {
      "text/plain": [
       "array([[ 6.1 ,  2.8 ,  4.7 ,  1.2 , 37.21, 17.08, 28.67,  7.32,  7.84,\n",
       "        13.16,  3.36, 22.09,  5.64,  1.44]])"
      ]
     },
     "execution_count": 44,
     "metadata": {},
     "output_type": "execute_result"
    }
   ],
   "source": [
    "test_poly = poly.transform(y_train)\n",
    "test_poly[:1]"
   ]
  },
  {
   "cell_type": "code",
   "execution_count": 45,
   "metadata": {},
   "outputs": [
    {
     "name": "stdout",
     "output_type": "stream",
     "text": [
      "0.9486949445238945\n",
      "0.9436486105118044\n"
     ]
    }
   ],
   "source": [
    "lr.fit(train_poly, X_target)\n",
    "print(lr.score(train_poly, X_target))\n",
    "print(lr.score(test_poly, y_target))"
   ]
  },
  {
   "cell_type": "code",
   "execution_count": 46,
   "metadata": {},
   "outputs": [],
   "source": [
    "# degree 5로 설정\n",
    "poly = PolynomialFeatures(degree=5, include_bias=False)"
   ]
  },
  {
   "cell_type": "code",
   "execution_count": 47,
   "metadata": {},
   "outputs": [
    {
     "name": "stdout",
     "output_type": "stream",
     "text": [
      "[[  2.   3.   4.   6.   9.   8.  12.  18.  27.  16.  24.  36.  54.  81.\n",
      "   32.  48.  72. 108. 162. 243.]]\n"
     ]
    }
   ],
   "source": [
    "poly.fit([[2,3]])\n",
    "print(poly.transform([[2,3]]))"
   ]
  },
  {
   "cell_type": "code",
   "execution_count": 48,
   "metadata": {},
   "outputs": [],
   "source": [
    "poly.fit(X_train)\n",
    "train_poly = poly.transform(X_train)\n",
    "test_poly = poly.transform(y_train)"
   ]
  },
  {
   "cell_type": "code",
   "execution_count": 49,
   "metadata": {},
   "outputs": [
    {
     "name": "stdout",
     "output_type": "stream",
     "text": [
      "1.0\n",
      "-41.734086855090375\n"
     ]
    }
   ],
   "source": [
    "lr.fit(train_poly, X_target)\n",
    "print(lr.score(train_poly, X_target))\n",
    "print(lr.score(test_poly, y_target))"
   ]
  },
  {
   "cell_type": "code",
   "execution_count": 50,
   "metadata": {},
   "outputs": [],
   "source": [
    "# 특성 스케일링\n",
    "from sklearn.preprocessing import StandardScaler\n",
    "\n",
    "ss = StandardScaler()\n",
    "ss.fit(train_poly)\n",
    "train_scaled = ss.transform(train_poly)\n",
    "test_scaled = ss.transform(test_poly)"
   ]
  },
  {
   "cell_type": "code",
   "execution_count": 51,
   "metadata": {},
   "outputs": [
    {
     "name": "stdout",
     "output_type": "stream",
     "text": [
      "1.0\n",
      "-117.90500557442064\n"
     ]
    }
   ],
   "source": [
    "lr.fit(train_scaled, X_target)\n",
    "print(lr.score(train_scaled, X_target))\n",
    "print(lr.score(test_scaled, y_target))"
   ]
  },
  {
   "cell_type": "code",
   "execution_count": 52,
   "metadata": {},
   "outputs": [
    {
     "name": "stdout",
     "output_type": "stream",
     "text": [
      "0.9517589408422866\n",
      "0.9588399314594283\n"
     ]
    }
   ],
   "source": [
    "# 릿지회귀\n",
    "from sklearn.linear_model import Ridge\n",
    "\n",
    "ridge = Ridge()\n",
    "ridge.fit(train_scaled, X_target)\n",
    "print(ridge.score(train_scaled, X_target))\n",
    "print(ridge.score(test_scaled, y_target))"
   ]
  },
  {
   "cell_type": "code",
   "execution_count": 53,
   "metadata": {},
   "outputs": [
    {
     "name": "stdout",
     "output_type": "stream",
     "text": [
      "[0.9659267026160556, 0.9619425684842152, 0.9567667453478894, 0.9517589408422866, 0.9431584145361445, 0.9129769826621972]\n",
      "[0.9517193225782181, 0.9628862289715957, 0.9695441683375643, 0.9588399314594283, 0.9386357840232824, 0.9269446380219205]\n"
     ]
    }
   ],
   "source": [
    "train_score = []\n",
    "test_score = []\n",
    "\n",
    "# 적용해볼 alpha 값 리스트\n",
    "alpha_list = [0.001, 0.01, 0.1, 1, 10, 100]\n",
    "\n",
    "for a in alpha_list:\n",
    "\n",
    "    #릿지 모델 생성\n",
    "    ridge = Ridge(alpha = a)\n",
    "\n",
    "    #릿지 모델 훈련\n",
    "    ridge.fit(train_scaled, X_target)\n",
    "\n",
    "    #훈련점수와 테스트 점수 저장\n",
    "    train_score.append(ridge.score(train_scaled, X_target))\n",
    "    test_score.append(ridge.score(test_scaled, y_target))\n",
    "\n",
    "print(train_score)\n",
    "print(test_score)"
   ]
  },
  {
   "cell_type": "code",
   "execution_count": 54,
   "metadata": {},
   "outputs": [
    {
     "data": {
      "image/png": "[encoded data removed]",
      "text/plain": [
       "<Figure size 432x288 with 1 Axes>"
      ]
     },
     "metadata": {
      "needs_background": "light"
     },
     "output_type": "display_data"
    }
   ],
   "source": [
    "# 릿지회귀 그래프\n",
    "plt.plot(alpha_list, train_score)\n",
    "plt.plot(alpha_list, test_score)\n",
    "\n",
    "plt.xlabel('alpha')\n",
    "plt.ylabel('R^2')\n",
    "plt.show()"
   ]
  },
  {
   "cell_type": "code",
   "execution_count": 55,
   "metadata": {},
   "outputs": [
    {
     "name": "stdout",
     "output_type": "stream",
     "text": [
      "[0.001, 0.01, 0.1, 1, 10, 100]\n",
      "[-3. -2. -1.  0.  1.  2.]\n"
     ]
    }
   ],
   "source": [
    "print(alpha_list)\n",
    "print(np.log10(alpha_list))"
   ]
  },
  {
   "cell_type": "code",
   "execution_count": 56,
   "metadata": {},
   "outputs": [
    {
     "data": {
      "image/png": "[encoded data removed]",
      "text/plain": [
       "<Figure size 432x288 with 1 Axes>"
      ]
     },
     "metadata": {
      "needs_background": "light"
     },
     "output_type": "display_data"
    }
   ],
   "source": [
    "# 로그함수 적용하여 그래프 그리기\n",
    "plt.plot(np.log10(alpha_list), train_score)\n",
    "plt.plot(np.log10(alpha_list), test_score)\n",
    "\n",
    "plt.xlabel('log10 alpha')\n",
    "plt.ylabel('R^2')\n",
    "plt.show()\n"
   ]
  },
  {
   "cell_type": "code",
   "execution_count": 57,
   "metadata": {},
   "outputs": [
    {
     "name": "stdout",
     "output_type": "stream",
     "text": [
      "0.9626155466919255\n",
      "0.9621769967940201\n"
     ]
    }
   ],
   "source": [
    "# 최적alpha값 설정\n",
    "ridge = Ridge(alpha = 0.007)\n",
    "ridge.fit(train_scaled, X_target)\n",
    "print(ridge.score(train_scaled, X_target))\n",
    "print(ridge.score(test_scaled, y_target))"
   ]
  },
  {
   "cell_type": "code",
   "execution_count": 58,
   "metadata": {},
   "outputs": [
    {
     "name": "stdout",
     "output_type": "stream",
     "text": [
      "0.0\n",
      "-0.015873329420263538\n"
     ]
    }
   ],
   "source": [
    "# 라쏘 회귀\n",
    "from sklearn.linear_model import Lasso\n",
    "\n",
    "lasso = Lasso()\n",
    "lasso.fit(train_scaled, X_target)\n",
    "print(lasso.score(train_scaled, X_target))\n",
    "print(lasso.score(test_scaled, y_target))"
   ]
  },
  {
   "cell_type": "code",
   "execution_count": 59,
   "metadata": {},
   "outputs": [
    {
     "name": "stdout",
     "output_type": "stream",
     "text": [
      "[0.9500843334209467, 0.9371172950590504, 0.9019825623918003, 0.0, 0.0, 0.0]\n",
      "[0.9474451995863924, 0.9452250810518142, 0.9353986736133254, -0.015873329420263538, -0.015873329420263538, -0.015873329420263538]\n"
     ]
    },
    {
     "name": "stderr",
     "output_type": "stream",
     "text": [
      "c:\\Users\\CDL\\anaconda3\\lib\\site-packages\\sklearn\\linear_model\\_coordinate_descent.py:647: ConvergenceWarning: Objective did not converge. You might want to increase the number of iterations, check the scale of the features or consider increasing regularisation. Duality gap: 8.943e-02, tolerance: 7.292e-03\n",
      "  model = cd_fast.enet_coordinate_descent(\n"
     ]
    }
   ],
   "source": [
    "train_score = []\n",
    "test_score = []\n",
    "\n",
    "alpha_list = [0.001, 0.01, 0.1, 1, 10, 100]\n",
    "\n",
    "for a in alpha_list:\n",
    "\n",
    "    # 라쏘 모델을 생성 및 훈련\n",
    "    lasso = Lasso(alpha = a, max_iter=1000)\n",
    "    lasso.fit(train_scaled, X_target)\n",
    "\n",
    "    train_score.append(lasso.score(train_scaled, X_target))\n",
    "    test_score.append(lasso.score(test_scaled, y_target))\n",
    "\n",
    "print(train_score)\n",
    "print(test_score)\n",
    "\n"
   ]
  },
  {
   "cell_type": "code",
   "execution_count": 60,
   "metadata": {},
   "outputs": [
    {
     "data": {
      "image/png": "[encoded data removed]",
      "text/plain": [
       "<Figure size 432x288 with 1 Axes>"
      ]
     },
     "metadata": {
      "needs_background": "light"
     },
     "output_type": "display_data"
    }
   ],
   "source": [
    "plt.plot(alpha_list, train_score)\n",
    "plt.plot(alpha_list, test_score)\n",
    "plt.xlabel('alpha')\n",
    "plt.ylabel('R^2')\n",
    "plt.show()"
   ]
  },
  {
   "cell_type": "code",
   "execution_count": 61,
   "metadata": {},
   "outputs": [
    {
     "data": {
      "image/png": "[encoded data removed]",
      "text/plain": [
       "<Figure size 432x288 with 1 Axes>"
      ]
     },
     "metadata": {
      "needs_background": "light"
     },
     "output_type": "display_data"
    }
   ],
   "source": [
    "plt.plot(np.log10(alpha_list), train_score)\n",
    "plt.plot(np.log10(alpha_list), test_score)\n",
    "plt.xlabel('alpha')\n",
    "plt.ylabel('R^2')\n",
    "plt.show()"
   ]
  },
  {
   "cell_type": "markdown",
   "metadata": {},
   "source": []
  },
  {
   "cell_type": "code",
   "execution_count": 62,
   "metadata": {},
   "outputs": [
    {
     "name": "stdout",
     "output_type": "stream",
     "text": [
      "1.0\n",
      "1.0\n"
     ]
    }
   ],
   "source": [
    "# 결정트리\n",
    "from sklearn.tree import DecisionTreeClassifier\n",
    "\n",
    "dtc = DecisionTreeClassifier(random_state=42)\n",
    "dtc.fit(X_train, X_target)\n",
    "\n",
    "print(dtc.score(X_train, X_target))\n",
    "print(dtc.score(y_train, y_target))"
   ]
  },
  {
   "cell_type": "code",
   "execution_count": 68,
   "metadata": {},
   "outputs": [
    {
     "name": "stdout",
     "output_type": "stream",
     "text": [
      "1.0\n",
      "1.0\n"
     ]
    }
   ],
   "source": [
    "dtc = DecisionTreeClassifier(random_state=42)\n",
    "dtc.fit(train_scaled, X_target)\n",
    "\n",
    "print(dtc.score(train_scaled, X_target))\n",
    "print(dtc.score(test_scaled, y_target))"
   ]
  },
  {
   "cell_type": "code",
   "execution_count": null,
   "metadata": {},
   "outputs": [],
   "source": []
  }
 ],
 "metadata": {
  "kernelspec": {
   "display_name": "Python 3",
   "language": "python",
   "name": "python3"
  },
  "language_info": {
   "codemirror_mode": {
    "name": "ipython",
    "version": 3
   },
   "file_extension": ".py",
   "mimetype": "text/x-python",
   "name": "python",
   "nbconvert_exporter": "python",
   "pygments_lexer": "ipython3",
   "version": "3.9.12"
  }
 },
 "nbformat": 4,
 "nbformat_minor": 2
}
