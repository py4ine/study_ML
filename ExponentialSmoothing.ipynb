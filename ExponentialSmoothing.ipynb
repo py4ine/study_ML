{
 "cells": [
  {
   "cell_type": "code",
   "execution_count": null,
   "metadata": {},
   "outputs": [],
   "source": [
    "# !pip install darts"
   ]
  },
  {
   "cell_type": "code",
   "execution_count": 119,
   "metadata": {},
   "outputs": [],
   "source": [
    "from darts import TimeSeries\n",
    "from darts.models import ExponentialSmoothing\n",
    "import numpy as np\n"
   ]
  },
  {
   "cell_type": "code",
   "execution_count": 120,
   "metadata": {},
   "outputs": [],
   "source": [
    "# 임의의 시계열 데이터 생성\n",
    "data = [1, 2, 3, 4, 5, 6, 7, 8, 9, 10]\n",
    "data = np.array(data)\n",
    "series = TimeSeries.from_values(values=data)"
   ]
  },
  {
   "cell_type": "code",
   "execution_count": 121,
   "metadata": {},
   "outputs": [
    {
     "data": {
      "text/plain": [
       "ExponentialSmoothing(trend=ModelMode.ADDITIVE, damped=False, seasonal=None, seasonal_periods=None, random_state=0, kwargs=None)"
      ]
     },
     "execution_count": 121,
     "metadata": {},
     "output_type": "execute_result"
    }
   ],
   "source": [
    "# 모델 생성 및 학습\n",
    "model = ExponentialSmoothing(seasonal=None)  # 데이터가 부족해서 계절성을 비활성화\n",
    "model.fit(series)"
   ]
  },
  {
   "cell_type": "code",
   "execution_count": 122,
   "metadata": {},
   "outputs": [],
   "source": [
    "# 예측 수행\n",
    "prediction = model.predict(n=5)  # n=몇번예측인지"
   ]
  },
  {
   "cell_type": "code",
   "execution_count": 123,
   "metadata": {},
   "outputs": [
    {
     "name": "stdout",
     "output_type": "stream",
     "text": [
      "[[11.]\n",
      " [12.]\n",
      " [13.]\n",
      " [14.]\n",
      " [15.]]\n"
     ]
    }
   ],
   "source": [
    "# 예측 결과 출력\n",
    "print(prediction.values())"
   ]
  },
  {
   "cell_type": "code",
   "execution_count": 124,
   "metadata": {},
   "outputs": [],
   "source": [
    "import pandas as pd\n",
    "data = pd.read_excel('../study_project/Data/Data_analysis/data/index_Infomation_v0.1.xlsx')"
   ]
  },
  {
   "cell_type": "code",
   "execution_count": 125,
   "metadata": {},
   "outputs": [
    {
     "data": {
      "text/html": [
       "<div>\n",
       "<style scoped>\n",
       "    .dataframe tbody tr th:only-of-type {\n",
       "        vertical-align: middle;\n",
       "    }\n",
       "\n",
       "    .dataframe tbody tr th {\n",
       "        vertical-align: top;\n",
       "    }\n",
       "\n",
       "    .dataframe thead th {\n",
       "        text-align: right;\n",
       "    }\n",
       "</style>\n",
       "<table border=\"1\" class=\"dataframe\">\n",
       "  <thead>\n",
       "    <tr style=\"text-align: right;\">\n",
       "      <th></th>\n",
       "      <th>Date</th>\n",
       "      <th>apple_Close</th>\n",
       "    </tr>\n",
       "  </thead>\n",
       "  <tbody>\n",
       "    <tr>\n",
       "      <th>0</th>\n",
       "      <td>2014-01-02</td>\n",
       "      <td>19.754642</td>\n",
       "    </tr>\n",
       "    <tr>\n",
       "      <th>1</th>\n",
       "      <td>2014-01-03</td>\n",
       "      <td>19.320715</td>\n",
       "    </tr>\n",
       "    <tr>\n",
       "      <th>2</th>\n",
       "      <td>2014-01-04</td>\n",
       "      <td>19.320715</td>\n",
       "    </tr>\n",
       "    <tr>\n",
       "      <th>3</th>\n",
       "      <td>2014-01-05</td>\n",
       "      <td>19.320715</td>\n",
       "    </tr>\n",
       "    <tr>\n",
       "      <th>4</th>\n",
       "      <td>2014-01-06</td>\n",
       "      <td>19.426071</td>\n",
       "    </tr>\n",
       "    <tr>\n",
       "      <th>...</th>\n",
       "      <td>...</td>\n",
       "      <td>...</td>\n",
       "    </tr>\n",
       "    <tr>\n",
       "      <th>3828</th>\n",
       "      <td>2024-06-26</td>\n",
       "      <td>213.250000</td>\n",
       "    </tr>\n",
       "    <tr>\n",
       "      <th>3829</th>\n",
       "      <td>2024-06-27</td>\n",
       "      <td>214.100006</td>\n",
       "    </tr>\n",
       "    <tr>\n",
       "      <th>3830</th>\n",
       "      <td>2024-06-28</td>\n",
       "      <td>210.619995</td>\n",
       "    </tr>\n",
       "    <tr>\n",
       "      <th>3831</th>\n",
       "      <td>2024-06-29</td>\n",
       "      <td>210.619995</td>\n",
       "    </tr>\n",
       "    <tr>\n",
       "      <th>3832</th>\n",
       "      <td>2024-06-30</td>\n",
       "      <td>210.619995</td>\n",
       "    </tr>\n",
       "  </tbody>\n",
       "</table>\n",
       "<p>3833 rows × 2 columns</p>\n",
       "</div>"
      ],
      "text/plain": [
       "            Date  apple_Close\n",
       "0     2014-01-02    19.754642\n",
       "1     2014-01-03    19.320715\n",
       "2     2014-01-04    19.320715\n",
       "3     2014-01-05    19.320715\n",
       "4     2014-01-06    19.426071\n",
       "...          ...          ...\n",
       "3828  2024-06-26   213.250000\n",
       "3829  2024-06-27   214.100006\n",
       "3830  2024-06-28   210.619995\n",
       "3831  2024-06-29   210.619995\n",
       "3832  2024-06-30   210.619995\n",
       "\n",
       "[3833 rows x 2 columns]"
      ]
     },
     "execution_count": 125,
     "metadata": {},
     "output_type": "execute_result"
    }
   ],
   "source": [
    "df = data[['Date', 'apple_Close']]\n",
    "df"
   ]
  },
  {
   "cell_type": "code",
   "execution_count": 126,
   "metadata": {},
   "outputs": [
    {
     "name": "stdout",
     "output_type": "stream",
     "text": [
      "[[210.65655833]\n",
      " [210.79793816]\n",
      " [210.90546644]\n",
      " [211.01172634]\n",
      " [210.92094124]\n",
      " [211.01463565]\n",
      " [211.09321332]\n",
      " [211.08143379]\n",
      " [210.97687821]\n",
      " [211.23407863]\n",
      " [211.25599772]\n",
      " [211.21716083]\n",
      " [211.25476694]\n",
      " [211.39614677]\n",
      " [211.50367505]\n",
      " [211.60993495]\n",
      " [211.51914985]\n",
      " [211.61284425]\n",
      " [211.69142193]\n",
      " [211.6796424 ]\n",
      " [211.57508682]\n",
      " [211.83228724]\n",
      " [211.85420633]\n",
      " [211.81536944]\n",
      " [211.85297555]\n",
      " [211.99435538]\n",
      " [212.10188366]\n",
      " [212.20814356]\n",
      " [212.11735846]\n",
      " [212.21105286]\n",
      " [212.28963054]\n",
      " [212.277851  ]\n",
      " [212.17329543]\n",
      " [212.43049585]\n",
      " [212.45241494]\n",
      " [212.41357805]\n",
      " [212.45118416]\n",
      " [212.59256399]\n",
      " [212.70009227]\n",
      " [212.80635217]\n",
      " [212.71556706]\n",
      " [212.80926147]\n",
      " [212.88783915]\n",
      " [212.87605961]\n",
      " [212.77150404]\n",
      " [213.02870446]\n",
      " [213.05062355]\n",
      " [213.01178665]\n",
      " [213.04939277]\n",
      " [213.1907726 ]\n",
      " [213.29830088]\n",
      " [213.40456078]\n",
      " [213.31377567]\n",
      " [213.40747008]\n",
      " [213.48604776]\n",
      " [213.47426822]\n",
      " [213.36971265]\n",
      " [213.62691307]\n",
      " [213.64883216]\n",
      " [213.60999526]\n",
      " [213.64760138]\n",
      " [213.78898121]\n",
      " [213.89650949]\n",
      " [214.00276938]\n",
      " [213.91198428]\n",
      " [214.00567869]\n",
      " [214.08425637]\n",
      " [214.07247683]\n",
      " [213.96792126]\n",
      " [214.22512168]\n",
      " [214.24704077]\n",
      " [214.20820387]\n",
      " [214.24580999]\n",
      " [214.38718981]\n",
      " [214.49471809]\n",
      " [214.60097799]\n",
      " [214.51019289]\n",
      " [214.6038873 ]\n",
      " [214.68246498]\n",
      " [214.67068544]\n",
      " [214.56612987]\n",
      " [214.82333029]\n",
      " [214.84524938]\n",
      " [214.80641248]\n",
      " [214.8440186 ]\n",
      " [214.98539842]\n",
      " [215.0929267 ]\n",
      " [215.1991866 ]\n",
      " [215.1084015 ]\n",
      " [215.20209591]]\n"
     ]
    }
   ],
   "source": [
    "# 데이터 및 모델 세팅\n",
    "series = TimeSeries.from_values(values=df['apple_Close'])\n",
    "model = ExponentialSmoothing()\n",
    "model.fit(series)\n",
    "\n",
    "# 예측 수행\n",
    "prediction = model.predict(n=90)  # n=몇번예측인지\n",
    "print(prediction.values())"
   ]
  },
  {
   "cell_type": "code",
   "execution_count": 127,
   "metadata": {},
   "outputs": [
    {
     "data": {
      "text/plain": [
       "[210.6565583324782,\n",
       " 210.79793816079976,\n",
       " 210.9054664400492,\n",
       " 211.01172633930636,\n",
       " 210.9209412377066,\n",
       " 211.0146356452396,\n",
       " 211.0932133215612,\n",
       " 211.08143378616916,\n",
       " 210.97687821412813,\n",
       " 211.23407863333028,\n",
       " 211.2559977211585,\n",
       " 211.2171608271689,\n",
       " 211.2547669414761,\n",
       " 211.39614676979767,\n",
       " 211.5036750490471,\n",
       " 211.60993494830427,\n",
       " 211.5191498467045,\n",
       " 211.61284425423753,\n",
       " 211.6914219305591,\n",
       " 211.67964239516706,\n",
       " 211.57508682312604,\n",
       " 211.8322872423282,\n",
       " 211.85420633015642,\n",
       " 211.8153694361668,\n",
       " 211.852975550474,\n",
       " 211.99435537879558,\n",
       " 212.101883658045,\n",
       " 212.20814355730218,\n",
       " 212.1173584557024,\n",
       " 212.2110528632354,\n",
       " 212.289630539557,\n",
       " 212.27785100416497,\n",
       " 212.17329543212395,\n",
       " 212.4304958513261,\n",
       " 212.45241493915432,\n",
       " 212.4135780451647,\n",
       " 212.45118415947192,\n",
       " 212.59256398779348,\n",
       " 212.70009226704292,\n",
       " 212.8063521663001,\n",
       " 212.7155670647003,\n",
       " 212.80926147223335,\n",
       " 212.88783914855492,\n",
       " 212.87605961316288,\n",
       " 212.77150404112186,\n",
       " 213.028704460324,\n",
       " 213.05062354815223,\n",
       " 213.01178665416262,\n",
       " 213.04939276846983,\n",
       " 213.1907725967914,\n",
       " 213.29830087604083,\n",
       " 213.404560775298,\n",
       " 213.31377567369822,\n",
       " 213.40747008123122,\n",
       " 213.48604775755283,\n",
       " 213.4742682221608,\n",
       " 213.36971265011977,\n",
       " 213.62691306932192,\n",
       " 213.64883215715014,\n",
       " 213.60999526316053,\n",
       " 213.64760137746774,\n",
       " 213.7889812057893,\n",
       " 213.89650948503873,\n",
       " 214.0027693842959,\n",
       " 213.91198428269612,\n",
       " 214.00567869022916,\n",
       " 214.08425636655073,\n",
       " 214.0724768311587,\n",
       " 213.96792125911767,\n",
       " 214.22512167831982,\n",
       " 214.24704076614805,\n",
       " 214.20820387215844,\n",
       " 214.24580998646564,\n",
       " 214.3871898147872,\n",
       " 214.49471809403664,\n",
       " 214.6009779932938,\n",
       " 214.51019289169403,\n",
       " 214.60388729922704,\n",
       " 214.68246497554864,\n",
       " 214.6706854401566,\n",
       " 214.56612986811558,\n",
       " 214.82333028731773,\n",
       " 214.84524937514595,\n",
       " 214.80641248115634,\n",
       " 214.84401859546355,\n",
       " 214.9853984237851,\n",
       " 215.09292670303455,\n",
       " 215.19918660229172,\n",
       " 215.10840150069194,\n",
       " 215.20209590822498]"
      ]
     },
     "execution_count": 127,
     "metadata": {},
     "output_type": "execute_result"
    }
   ],
   "source": [
    "prediction_values = []\n",
    "for i in prediction.values():\n",
    "    for j in i:\n",
    "        prediction_values.append(j)\n",
    "prediction_values"
   ]
  },
  {
   "cell_type": "code",
   "execution_count": 128,
   "metadata": {},
   "outputs": [
    {
     "data": {
      "text/html": [
       "<div>\n",
       "<style scoped>\n",
       "    .dataframe tbody tr th:only-of-type {\n",
       "        vertical-align: middle;\n",
       "    }\n",
       "\n",
       "    .dataframe tbody tr th {\n",
       "        vertical-align: top;\n",
       "    }\n",
       "\n",
       "    .dataframe thead th {\n",
       "        text-align: right;\n",
       "    }\n",
       "</style>\n",
       "<table border=\"1\" class=\"dataframe\">\n",
       "  <thead>\n",
       "    <tr style=\"text-align: right;\">\n",
       "      <th></th>\n",
       "      <th>Date</th>\n",
       "      <th>predict_value</th>\n",
       "    </tr>\n",
       "  </thead>\n",
       "  <tbody>\n",
       "    <tr>\n",
       "      <th>0</th>\n",
       "      <td>2024-07-01</td>\n",
       "      <td>210.656558</td>\n",
       "    </tr>\n",
       "    <tr>\n",
       "      <th>1</th>\n",
       "      <td>2024-07-02</td>\n",
       "      <td>210.797938</td>\n",
       "    </tr>\n",
       "    <tr>\n",
       "      <th>2</th>\n",
       "      <td>2024-07-03</td>\n",
       "      <td>210.905466</td>\n",
       "    </tr>\n",
       "    <tr>\n",
       "      <th>3</th>\n",
       "      <td>2024-07-04</td>\n",
       "      <td>211.011726</td>\n",
       "    </tr>\n",
       "    <tr>\n",
       "      <th>4</th>\n",
       "      <td>2024-07-05</td>\n",
       "      <td>210.920941</td>\n",
       "    </tr>\n",
       "    <tr>\n",
       "      <th>...</th>\n",
       "      <td>...</td>\n",
       "      <td>...</td>\n",
       "    </tr>\n",
       "    <tr>\n",
       "      <th>85</th>\n",
       "      <td>2024-09-24</td>\n",
       "      <td>214.985398</td>\n",
       "    </tr>\n",
       "    <tr>\n",
       "      <th>86</th>\n",
       "      <td>2024-09-25</td>\n",
       "      <td>215.092927</td>\n",
       "    </tr>\n",
       "    <tr>\n",
       "      <th>87</th>\n",
       "      <td>2024-09-26</td>\n",
       "      <td>215.199187</td>\n",
       "    </tr>\n",
       "    <tr>\n",
       "      <th>88</th>\n",
       "      <td>2024-09-27</td>\n",
       "      <td>215.108402</td>\n",
       "    </tr>\n",
       "    <tr>\n",
       "      <th>89</th>\n",
       "      <td>2024-09-28</td>\n",
       "      <td>215.202096</td>\n",
       "    </tr>\n",
       "  </tbody>\n",
       "</table>\n",
       "<p>90 rows × 2 columns</p>\n",
       "</div>"
      ],
      "text/plain": [
       "         Date  predict_value\n",
       "0  2024-07-01     210.656558\n",
       "1  2024-07-02     210.797938\n",
       "2  2024-07-03     210.905466\n",
       "3  2024-07-04     211.011726\n",
       "4  2024-07-05     210.920941\n",
       "..        ...            ...\n",
       "85 2024-09-24     214.985398\n",
       "86 2024-09-25     215.092927\n",
       "87 2024-09-26     215.199187\n",
       "88 2024-09-27     215.108402\n",
       "89 2024-09-28     215.202096\n",
       "\n",
       "[90 rows x 2 columns]"
      ]
     },
     "execution_count": 128,
     "metadata": {},
     "output_type": "execute_result"
    }
   ],
   "source": [
    "predict_data = {\n",
    "    'Date': pd.date_range(start='2024-07-01', periods=90, freq='D'),\n",
    "    'predict_value': prediction_values\n",
    "}\n",
    "\n",
    "predict_df = pd.DataFrame(predict_data)\n",
    "predict_df"
   ]
  },
  {
   "cell_type": "code",
   "execution_count": 129,
   "metadata": {},
   "outputs": [
    {
     "data": {
      "image/png": "[encoded data removed]",
      "text/plain": [
       "<Figure size 2000x500 with 1 Axes>"
      ]
     },
     "metadata": {},
     "output_type": "display_data"
    }
   ],
   "source": [
    "import matplotlib.pyplot as plt\n",
    "import matplotlib.dates as mdates\n",
    "import seaborn as sns\n",
    "\n",
    "real_value = df['apple_Close']\n",
    "real_date = df['Date']\n",
    "predict_value = predict_df['predict_value']\n",
    "predict_date = predict_df['Date']\n",
    "\n",
    "# 'date' 컬럼을 datetime 형식으로 변환\n",
    "real_date = pd.to_datetime(real_date)\n",
    "predict_date = pd.to_datetime(predict_date)\n",
    "\n",
    "# 그래프 그리기\n",
    "plt.figure(figsize=(20,5))\n",
    "plt.plot(real_date, real_value)\n",
    "plt.plot(predict_date, predict_value, color='g')\n",
    "\n",
    "# 날짜 형식 자동 설정\n",
    "plt.gca().xaxis.set_major_locator(mdates.DayLocator(interval=365))\n",
    "plt.gca().xaxis.set_major_formatter(mdates.DateFormatter('%Y-%m-%d'))\n",
    "\n",
    "# 그래프 제목 및 레이블 설정\n",
    "plt.title('Predict apple stock')\n",
    "plt.xlabel('Date')\n",
    "plt.ylabel('Stock price($)')\n",
    "\n",
    "plt.show()"
   ]
  },
  {
   "cell_type": "code",
   "execution_count": 130,
   "metadata": {},
   "outputs": [],
   "source": [
    "# 전체 데이터 중 80%를 훈련데이터로, 20%를 테스트 데이터로 나누기\n",
    "df.set_index('Date', inplace=True)\n",
    "train_size = int(len(df) * 0.8)\n",
    "train = df['apple_Close'][:train_size]\n",
    "test = df['apple_Close'][train_size:]"
   ]
  },
  {
   "cell_type": "code",
   "execution_count": 132,
   "metadata": {},
   "outputs": [
    {
     "data": {
      "text/plain": [
       "Date\n",
       "2014-01-02     19.754642\n",
       "2014-01-03     19.320715\n",
       "2014-01-04     19.320715\n",
       "2014-01-05     19.320715\n",
       "2014-01-06     19.426071\n",
       "                 ...    \n",
       "2022-05-21    137.589996\n",
       "2022-05-22    137.589996\n",
       "2022-05-23    143.110001\n",
       "2022-05-24    140.360001\n",
       "2022-05-25    140.520004\n",
       "Name: apple_Close, Length: 3066, dtype: float64"
      ]
     },
     "execution_count": 132,
     "metadata": {},
     "output_type": "execute_result"
    }
   ],
   "source": [
    "train"
   ]
  },
  {
   "cell_type": "code",
   "execution_count": 131,
   "metadata": {},
   "outputs": [
    {
     "ename": "TypeError",
     "evalue": "ExponentialSmoothing.fit() missing 1 required positional argument: 'series'",
     "output_type": "error",
     "traceback": [
      "\u001b[1;31m---------------------------------------------------------------------------\u001b[0m",
      "\u001b[1;31mTypeError\u001b[0m                                 Traceback (most recent call last)",
      "Cell \u001b[1;32mIn[131], line 7\u001b[0m\n\u001b[0;32m      1\u001b[0m \u001b[38;5;66;03m# ExponentialSmoothing 모델 생성 및 훈련\u001b[39;00m\n\u001b[0;32m      2\u001b[0m model \u001b[38;5;241m=\u001b[39m \u001b[43mExponentialSmoothing\u001b[49m\u001b[43m(\u001b[49m\n\u001b[0;32m      3\u001b[0m \u001b[43m    \u001b[49m\u001b[43mtrain\u001b[49m\u001b[43m,\u001b[49m\n\u001b[0;32m      4\u001b[0m \u001b[43m    \u001b[49m\u001b[43mtrend\u001b[49m\u001b[38;5;241;43m=\u001b[39;49m\u001b[38;5;124;43m'\u001b[39;49m\u001b[38;5;124;43madd\u001b[39;49m\u001b[38;5;124;43m'\u001b[39;49m\u001b[43m,\u001b[49m\n\u001b[0;32m      5\u001b[0m \u001b[43m    \u001b[49m\u001b[43mseasonal\u001b[49m\u001b[38;5;241;43m=\u001b[39;49m\u001b[38;5;124;43m'\u001b[39;49m\u001b[38;5;124;43madd\u001b[39;49m\u001b[38;5;124;43m'\u001b[39;49m\u001b[43m,\u001b[49m\n\u001b[0;32m      6\u001b[0m \u001b[43m    \u001b[49m\u001b[43mseasonal_periods\u001b[49m\u001b[38;5;241;43m=\u001b[39;49m\u001b[38;5;241;43m12\u001b[39;49m\n\u001b[1;32m----> 7\u001b[0m \u001b[43m)\u001b[49m\u001b[38;5;241;43m.\u001b[39;49m\u001b[43mfit\u001b[49m\u001b[43m(\u001b[49m\u001b[43m)\u001b[49m\n",
      "\u001b[1;31mTypeError\u001b[0m: ExponentialSmoothing.fit() missing 1 required positional argument: 'series'"
     ]
    }
   ],
   "source": [
    "# ExponentialSmoothing 모델 생성 및 훈련\n",
    "model = ExponentialSmoothing(\n",
    "    train,\n",
    "    trend='add',\n",
    "    seasonal='add',\n",
    "    seasonal_periods=12\n",
    ").fit()"
   ]
  },
  {
   "cell_type": "code",
   "execution_count": null,
   "metadata": {},
   "outputs": [],
   "source": [
    "# 하이퍼파라미터 그리드 설정\n",
    "param_grid = {\n",
    "    'trend': [None, 'add', 'mul'],  # 트렌드\n",
    "    'seasonal': [None, 'add', 'mul'],  # 계절성\n",
    "    'seasonal_periods': [4, 12],\n",
    "    'damped_trend': [True, False]\n",
    "}\n",
    "\n",
    "# 최적의 하이퍼파라미터 초기화\n",
    "best_score = float('inf')\n",
    "best_params = None\n",
    "best_model = None"
   ]
  },
  {
   "cell_type": "code",
   "execution_count": null,
   "metadata": {},
   "outputs": [],
   "source": [
    "from sklearn.model_selection import ParameterGrid\n",
    "from sklearn.metrics import mean_squared_error\n",
    "\n",
    "# 그리드 서치 수행\n",
    "for params in ParameterGrid(param_grid):\n",
    "    try:\n",
    "        model = ExponentialSmoothing(\n",
    "            train,\n",
    "            trend=params['trend'],\n",
    "            seasonal=params['seasonal'],\n",
    "            seasonal_periods=params['seasonal_periods'],\n",
    "            damped_trend=params['damped_trend']\n",
    "        ).fit()\n",
    "\n",
    "        predictions = model.forecast(len(test))\n",
    "        score = mean_squared_error(test, predictions)\n",
    "\n",
    "        if score < best_score:\n",
    "            best_score = score\n",
    "            best_params = params\n",
    "            best_model = model\n",
    "\n",
    "    except Exception as e:\n",
    "        print(f\"Error with parameters {params}: {e}\")"
   ]
  },
  {
   "cell_type": "code",
   "execution_count": null,
   "metadata": {},
   "outputs": [],
   "source": []
  }
 ],
 "metadata": {
  "kernelspec": {
   "display_name": "projectM3",
   "language": "python",
   "name": "python3"
  },
  "language_info": {
   "codemirror_mode": {
    "name": "ipython",
    "version": 3
   },
   "file_extension": ".py",
   "mimetype": "text/x-python",
   "name": "python",
   "nbconvert_exporter": "python",
   "pygments_lexer": "ipython3",
   "version": "3.11.9"
  }
 },
 "nbformat": 4,
 "nbformat_minor": 2
}
